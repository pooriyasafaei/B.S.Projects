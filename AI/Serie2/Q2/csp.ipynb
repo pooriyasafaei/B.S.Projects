{
 "cells": [
  {
   "cell_type": "markdown",
   "metadata": {
    "pycharm": {
     "name": "#%% md\n"
    }
   },
   "source": [
    "<img src='http://www-scf.usc.edu/~ghasemig/images/sharif.png' alt=\"SUT logo\" width=300 height=300 align=left class=\"saturate\" >\n",
    "\n",
    "<br>\n",
    "<font>\n",
    "<div dir=ltr align=center>\n",
    "<font color=0F5298 size=7>\n",
    "    Artificial Intelligence <br>\n",
    "<font color=2565AE size=5>\n",
    "    Computer Engineering Department <br>\n",
    "    Spring 2023<br>\n",
    "<font color=3C99D size=5>\n",
    "    Practical Assignment 2 Solution - CSP <br>\n",
    "<font color=696880 size=4>\n",
    "    Mohammad Mahdi Abootorabi \n",
    "\n",
    "____"
   ]
  },
  {
   "cell_type": "markdown",
   "metadata": {
    "pycharm": {
     "name": "#%% md\n"
    }
   },
   "source": [
    "# Q1- CSP (50 Points)"
   ]
  },
  {
   "cell_type": "markdown",
   "metadata": {
    "pycharm": {
     "name": "#%% md\n"
    }
   },
   "source": [
    "In this question, we are going to plan for some future events in the country. There are some halls that can host different kinds of events, such as concerts, sports events, etc.\n",
    "\n",
    "Two halls are considered adjacent if the distance between them is less than a threshold. Two adjacent halls cannot host the same event.\n",
    "\n",
    "With these constraints, complete the code below and assign an event to each hall to satisfy every constraint.\n",
    "\n"
   ]
  },
  {
   "cell_type": "markdown",
   "metadata": {
    "pycharm": {
     "name": "#%% md\n"
    }
   },
   "source": [
    "## Example\n",
    "Look at this example carefully:<br>\n",
    "<img src=\"Images/CSP_example.png\" width=\"500\"/>\n",
    "  - There are $6$ halls and $3$ kinds of events.\n",
    "  - The halls in which each event can be held (for example, sport events can be held only at hall 1, 4 and 6).\n",
    "  - Adjacent halls (we show adjacent halls here with a line between them) cannot host the same event (for example, halls 1 and 2 both cannot host concert events)."
   ]
  },
  {
   "cell_type": "markdown",
   "metadata": {
    "pycharm": {
     "name": "#%% md\n"
    }
   },
   "source": [
    "## Note\n",
    "  - You _must_ implement and use AC-3 algorithm.\n",
    "  - You will _probably_ need to utilize the heuristic algorithms you have learned (e.g. MRV and LCV) or consider nearly tree-structured graphs approach in order to pass all tests in an appropriate time."
   ]
  },
  {
   "cell_type": "markdown",
   "metadata": {
    "pycharm": {
     "name": "#%% md\n"
    }
   },
   "source": [
    "## Input\n",
    "  - The first line consists of $N$ (count of halls) and $M$ (count of event kinds).\n",
    "  - In the following $M$ lines, the $i$ th line ($1 \\le i \\le M$) is a list of preferred halls for the $i$ th event (separated by space).\n",
    "  - In the next line, $E$, the total number of adjacent constraints (edges in the previous graph) are given.\n",
    "  - in each of the following $E$ lines, a pair of hall numbers (separated by space) is given.\n",
    "$$1 \\le N \\le 50$$\n",
    "$$1 \\le M \\le 50$$\n",
    "\n",
    "### Sample Input\n",
    "This sample describes the previous example (sport=1, concert=2, fashion=3).\n",
    "```\n",
    "6 3\n",
    "1 4 6\n",
    "1 2 3 5 6\n",
    "3 4 5\n",
    "5\n",
    "1 2\n",
    "2 3\n",
    "3 4\n",
    "3 5\n",
    "3 6\n",
    "```"
   ]
  },
  {
   "cell_type": "markdown",
   "metadata": {
    "pycharm": {
     "name": "#%% md\n"
    }
   },
   "source": [
    "## Output\n",
    "In the only line, print:\n",
    "  - list of one appropriate assignment ordered by hall number (separated by space).\n",
    "  - `NO` if there isn't.\n",
    "\n",
    "### Sample Output\n",
    "One possible solution to the example above is {Hall1=sport, Hall2=concert , Hall3=fashion, Hall4=sport, Hall5=concert, Hall6=concert}. So:\n",
    "```\n",
    "1 2 3 1 2 2\n",
    "```\n",
    "In another example, If Hall3 was not an option for fashion, then the answer would be:\n",
    "```\n",
    "NO\n",
    "```\n",
    "Because then hall 2 or 3 would be empty."
   ]
  },
  {
   "cell_type": "markdown",
   "metadata": {
    "pycharm": {
     "name": "#%% md\n"
    }
   },
   "source": [
    "## Your code\n",
    "**Note:** It's OK to change the signature for the given functions and the given structure is just a suggestion to help you with the implementation. (you can't remove or add any cells)"
   ]
  },
  {
   "cell_type": "code",
   "execution_count": 7,
   "metadata": {
    "pycharm": {
     "name": "#%%\n"
    }
   },
   "outputs": [],
   "source": [
    "# Auxiliary functions\n",
    "import copy\n",
    "\n",
    "\n",
    "class Functions:\n",
    "    def __init__(self, domains, edges, halls_count) -> None:\n",
    "        self.domains = domains\n",
    "        self.edges = edges\n",
    "        self.halls_count = halls_count\n",
    "        self.neighbors = self.get_neighbors()\n",
    "\n",
    "    @staticmethod\n",
    "    def parser(halls_count, prefered_halls, next_e_lines):\n",
    "        domains = {i: [] for i in range(1, halls_count + 1)}\n",
    "        for index, halls in enumerate(prefered_halls, start=1):\n",
    "            for hall in halls:\n",
    "                domains[hall].append(index)\n",
    "        edges = []\n",
    "        for edge in next_e_lines:\n",
    "            edges.append((int(edge[0]), int(edge[1])))\n",
    "        return Functions(domains, edges, halls_count)\n",
    "\n",
    "    def get_neighbors(self):\n",
    "        neighbours = {i: [] for i in range(1, self.halls_count + 1)}\n",
    "        for edge in self.edges:\n",
    "            neighbours[edge[0]].append(edge[1])\n",
    "            neighbours[edge[1]].append(edge[0])\n",
    "        return neighbours\n",
    "\n",
    "    def is_satisfied(self, assignments):\n",
    "        for e1, e2 in self.edges:\n",
    "            if assignments[e1] == assignments[e2]:\n",
    "                return False\n",
    "        return True\n",
    "\n",
    "    def get_unassigned(self, assignments):\n",
    "        for i in range(1, self.halls_count + 1):\n",
    "            if i not in assignments.keys():\n",
    "                return i\n",
    "\n",
    "    def domain_values(self, variable):\n",
    "        return self.domains[variable]\n",
    "\n",
    "    def clone(self):\n",
    "        return copy.deepcopy(self)"
   ]
  },
  {
   "cell_type": "code",
   "execution_count": 8,
   "metadata": {
    "pycharm": {
     "name": "#%%\n"
    }
   },
   "outputs": [],
   "source": [
    "def revise(csp_properties, e1, e2):\n",
    "    revised = False\n",
    "    for i in csp_properties.domains[e1]:\n",
    "        if len(csp_properties.domains[e2]) == 1 and csp_properties.domains[e2] == i:\n",
    "            csp_properties.domains[e1].remove(i)\n",
    "            revised = True\n",
    "    return revised\n",
    "\n",
    "def ac_3(csp_properties: Functions):\n",
    "    #################################################################\n",
    "    # (Point: 30% of total score obtained by tests)                 #\n",
    "    # This function returns false                                   #\n",
    "    # if an inconsistency is found and true otherwise.              #\n",
    "    # Feel free to also implement a revise function in this cell. #\n",
    "    #################################################################\n",
    "    queue = csp_properties.edges[:]\n",
    "    while queue:\n",
    "        e1, e2 = queue.pop(0)\n",
    "        if revise(csp_properties, e1, e2):\n",
    "            if not csp_properties.domains[e1]:\n",
    "                return False\n",
    "            for e in csp_properties.neighbors[e1]:\n",
    "                if e != e2:\n",
    "                    queue.append((e1, e))\n",
    "    return True\n"
   ]
  },
  {
   "cell_type": "code",
   "execution_count": 9,
   "metadata": {
    "pycharm": {
     "name": "#%%\n"
    }
   },
   "outputs": [],
   "source": [
    "def backtrack(csp_properties: Functions, assignments):\n",
    "    #################################################################\n",
    "    # (Point: 60% of total score obtained by tests)                 #\n",
    "    # This function returns a solution if there is a complete       #\n",
    "    # assignment or failure if there is not                         #\n",
    "    #################################################################\n",
    "    if len(assignments) == csp_properties.halls_count:\n",
    "        if csp_properties.is_satisfied(assignments):\n",
    "            return assignments\n",
    "        return\n",
    "    variable = csp_properties.get_unassigned(assignments)\n",
    "    for value in csp_properties.domain_values(variable):\n",
    "        assignments[variable] = value\n",
    "        _csp_properties = csp_properties.clone()\n",
    "        if ac_3(_csp_properties):\n",
    "            result = backtrack(_csp_properties, assignments)\n",
    "            if result:\n",
    "                return result\n",
    "        del assignments[variable]\n",
    "    return\n",
    "\n",
    "\n",
    "def backtracking_search(csp_properties):\n",
    "    #################################################################\n",
    "    #                          (Optional)                           #\n",
    "    #   Just in case you need an auxiliary function for backtrack   #\n",
    "    #################################################################\n",
    "    assignments = backtrack(csp_properties, {})\n",
    "    if not assignments:\n",
    "        assignments_str = 'NO'\n",
    "    else:\n",
    "        assignments_ordered = []\n",
    "        for i in range(1, csp_properties.halls_count + 1):\n",
    "            assignments_ordered.append(assignments[i])\n",
    "        assignments_str = ' '.join(map(str, assignments_ordered))\n",
    "    return assignments_str\n"
   ]
  },
  {
   "cell_type": "code",
   "execution_count": 10,
   "metadata": {
    "pycharm": {
     "name": "#%%\n"
    }
   },
   "outputs": [
    {
     "name": "stdout",
     "output_type": "stream",
     "text": [
      "----------------------------------------------------------\n",
      "----------------------------------------------------------\n",
      "----------------------------------------------------------\n",
      "----------------------------------------------------------\n",
      "Too many colors to plot for test 5\n",
      "----------------------------------------------------------\n",
      "Score = 100.0%\n"
     ]
    }
   ],
   "source": [
    "import Helper_codes.csp_helper as csp\n",
    "import time\n",
    "import networkx as nx\n",
    "import matplotlib\n",
    "matplotlib.use('TkAgg')\n",
    "import matplotlib.pyplot as plt\n",
    "import Helper_codes.csp_helper as helper\n",
    "\n",
    "\n",
    "def plot_test_case(result, n, next_e_lines,\n",
    "                   test_num):  # Do not change this function. This is for plotting the assignment.\n",
    "    if result == 'NO':\n",
    "        return\n",
    "    reult_list = result.split()\n",
    "    reult_list = list(map(int, reult_list))\n",
    "    if len(reult_list) >= 15:\n",
    "        print(f'Too many colors to plot for test {test_num + 1}')\n",
    "        return\n",
    "\n",
    "    G = nx.Graph()\n",
    "    G.add_nodes_from(range(1, n + 1))\n",
    "    for edge in next_e_lines:\n",
    "        G.add_edge(edge[0], edge[1])\n",
    "    colors = ['red', 'green', 'blue', 'yellow', 'orange', 'purple', 'pink', 'brown', 'gray', 'black', 'cyan', 'magenta',\n",
    "              'olive', 'teal']\n",
    "\n",
    "    color_map = []\n",
    "    for i in range(1, n + 1):\n",
    "        color_map.append(colors[reult_list[i - 1] - 1])\n",
    "\n",
    "    nx.draw(G, node_color=color_map, with_labels=True)\n",
    "    plt.show()\n",
    "\n",
    "\n",
    "TIME_LIMIT = 3\n",
    "\n",
    "tests = csp.get_all_tests(prefix='csp_')\n",
    "tests_passed = 0\n",
    "for test_num, test in enumerate(tests):\n",
    "    n, m, m_next_lines, e, next_e_lines = csp.scan_test_input(test)\n",
    "    #################################################################\n",
    "    # (Point: 10% of total score obtained by tests)                 #\n",
    "    # Replace this comment section with a piece of code to          #\n",
    "    # handle inputs.                                                #\n",
    "    #################################################################\n",
    "    csp_properties = Functions.parser(n, m_next_lines, next_e_lines)\n",
    "    start_time = time.time()\n",
    "    result = backtracking_search(csp_properties)\n",
    "    delay = time.time() - start_time\n",
    "    if helper.is_result_valid(test, result) and delay < TIME_LIMIT:\n",
    "        tests_passed += 1\n",
    "    else:\n",
    "        print(f'test {test} failed. time elapsed= {delay}')\n",
    "    plot_test_case(result, n, next_e_lines, test_num)\n",
    "    print('----------------------------------------------------------')\n",
    "# (Point: 50% of your total score)                                    #\n",
    "print(f'Score = {tests_passed / len(tests) * 100}%')\n"
   ]
  }
 ],
 "metadata": {
  "kernelspec": {
   "display_name": "Python 3 (ipykernel)",
   "language": "python",
   "name": "python3"
  },
  "language_info": {
   "codemirror_mode": {
    "name": "ipython",
    "version": 3
   },
   "file_extension": ".py",
   "mimetype": "text/x-python",
   "name": "python",
   "nbconvert_exporter": "python",
   "pygments_lexer": "ipython3",
   "version": "3.10.2"
  }
 },
 "nbformat": 4,
 "nbformat_minor": 4
}