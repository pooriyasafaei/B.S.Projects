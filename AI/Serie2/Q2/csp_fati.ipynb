{
 "cells": [
  {
   "cell_type": "markdown",
   "metadata": {
    "pycharm": {
     "name": "#%% md\n"
    }
   },
   "source": [
    "<img src='http://www-scf.usc.edu/~ghasemig/images/sharif.png' alt=\"SUT logo\" width=300 height=300 align=left class=\"saturate\" >\n",
    "\n",
    "<br>\n",
    "<font>\n",
    "<div dir=ltr align=center>\n",
    "<font color=0F5298 size=7>\n",
    "    Artificial Intelligence <br>\n",
    "<font color=2565AE size=5>\n",
    "    Computer Engineering Department <br>\n",
    "    Spring 2023<br>\n",
    "<font color=3C99D size=5>\n",
    "    Practical Assignment 2 Solution - CSP <br>\n",
    "<font color=696880 size=4>\n",
    "    Mohammad Mahdi Abootorabi \n",
    "\n",
    "____"
   ]
  },
  {
   "cell_type": "markdown",
   "metadata": {
    "pycharm": {
     "name": "#%% md\n"
    }
   },
   "source": [
    "# Q1- CSP (50 Points)"
   ]
  },
  {
   "cell_type": "markdown",
   "metadata": {
    "pycharm": {
     "name": "#%% md\n"
    }
   },
   "source": [
    "In this question, we are going to plan for some future events in the country. There are some halls that can host different kinds of events, such as concerts, sports events, etc.\n",
    "\n",
    "Two halls are considered adjacent if the distance between them is less than a threshold. Two adjacent halls cannot host the same event.\n",
    "\n",
    "With these constraints, complete the code below and assign an event to each hall to satisfy every constraint.\n",
    "\n"
   ]
  },
  {
   "cell_type": "markdown",
   "metadata": {
    "pycharm": {
     "name": "#%% md\n"
    }
   },
   "source": [
    "## Example\n",
    "Look at this example carefully:<br>\n",
    "<img src=\"Images/CSP_example.png\" width=\"500\"/>\n",
    "  - There are $6$ halls and $3$ kinds of events.\n",
    "  - The halls in which each event can be held (for example, sport events can be held only at hall 1, 4 and 6).\n",
    "  - Adjacent halls (we show adjacent halls here with a line between them) cannot host the same event (for example, halls 1 and 2 both cannot host concert events)."
   ]
  },
  {
   "cell_type": "markdown",
   "metadata": {
    "pycharm": {
     "name": "#%% md\n"
    }
   },
   "source": [
    "## Note\n",
    "  - You _must_ implement and use AC-3 algorithm.\n",
    "  - You will _probably_ need to utilize the heuristic algorithms you have learned (e.g. MRV and LCV) or consider nearly tree-structured graphs approach in order to pass all tests in an appropriate time."
   ]
  },
  {
   "cell_type": "markdown",
   "metadata": {
    "pycharm": {
     "name": "#%% md\n"
    }
   },
   "source": [
    "## Input\n",
    "  - The first line consists of $N$ (count of halls) and $M$ (count of event kinds).\n",
    "  - In the following $M$ lines, the $i$ th line ($1 \\le i \\le M$) is a list of preferred halls for the $i$ th event (separated by space).\n",
    "  - In the next line, $E$, the total number of adjacent constraints (edges in the previous graph) are given.\n",
    "  - in each of the following $E$ lines, a pair of hall numbers (separated by space) is given.\n",
    "$$1 \\le N \\le 50$$\n",
    "$$1 \\le M \\le 50$$\n",
    "\n",
    "### Sample Input\n",
    "This sample describes the previous example (sport=1, concert=2, fashion=3).\n",
    "```\n",
    "6 3\n",
    "1 4 6\n",
    "1 2 3 5 6\n",
    "3 4 5\n",
    "5\n",
    "1 2\n",
    "2 3\n",
    "3 4\n",
    "3 5\n",
    "3 6\n",
    "```"
   ]
  },
  {
   "cell_type": "markdown",
   "metadata": {
    "pycharm": {
     "name": "#%% md\n"
    }
   },
   "source": [
    "## Output\n",
    "In the only line, print:\n",
    "  - list of one appropriate assignment ordered by hall number (separated by space).\n",
    "  - `NO` if there isn't.\n",
    "\n",
    "### Sample Output\n",
    "One possible solution to the example above is {Hall1=sport, Hall2=concert , Hall3=fashion, Hall4=sport, Hall5=concert, Hall6=concert}. So:\n",
    "```\n",
    "1 2 3 1 2 2\n",
    "```\n",
    "In another example, If Hall3 was not an option for fashion, then the answer would be:\n",
    "```\n",
    "NO\n",
    "```\n",
    "Because then hall 2 or 3 would be empty."
   ]
  },
  {
   "cell_type": "markdown",
   "metadata": {
    "pycharm": {
     "name": "#%% md\n"
    }
   },
   "source": [
    "## Your code\n",
    "**Note:** It's OK to change the signature for the given functions and the given structure is just a suggestion to help you with the implementation. (you can't remove or add any cells)"
   ]
  },
  {
   "cell_type": "code",
   "execution_count": 18,
   "metadata": {
    "pycharm": {
     "name": "#%%\n"
    }
   },
   "outputs": [],
   "source": [
    "# Auxiliary functions"
   ]
  },
  {
   "cell_type": "code",
   "execution_count": 19,
   "metadata": {
    "pycharm": {
     "name": "#%%\n"
    }
   },
   "outputs": [],
   "source": [
    "def ac_3(csp_domains, csp_constraints):\n",
    "    # Initialize the queue with all the arcs in the CSP\n",
    "    queue = [(xi, xj) for xi in csp_domains for xj in csp_domains if xi != xj]\n",
    "\n",
    "    # Keep iterating until the queue is empty\n",
    "    while queue:\n",
    "        (xi, xj) = queue.pop(0)\n",
    "        # If the domain of xi is revised, we need to check its neighbors\n",
    "        if revise(csp_domains, xi, xj):\n",
    "            # If the domain of xi is empty, there is no solution\n",
    "            if not csp_domains[xi]:\n",
    "                return False\n",
    "            # Add neighboring arcs back to the queue\n",
    "            for xk in csp_domains:\n",
    "                if xk != xi and (xk, xi) in csp_constraints:\n",
    "                    queue.append((xk, xi))\n",
    "    return True\n",
    "\n",
    "def revise(csp_domains, xi, xj):\n",
    "    # Indicates whether we revised the domain of xi\n",
    "    revised = False\n",
    "    # Check every value in the domain of xi\n",
    "    for x in csp_domains[xi]:\n",
    "        # If no value in the domain of xj satisfies the constraint with x, remove x\n",
    "        if all(not is_different(x, y) for y in csp_domains[xj]):\n",
    "            csp_domains[xi].remove(x)\n",
    "            revised = True\n",
    "    return revised\n",
    "\n",
    "def is_different(x, y):\n",
    "    # Check if two values are different\n",
    "    return x != y"
   ]
  },
  {
   "cell_type": "code",
   "execution_count": 20,
   "metadata": {
    "pycharm": {
     "name": "#%%\n"
    }
   },
   "outputs": [],
   "source": [
    "def backtrack(csp_domains, csp_constraints, assignment):\n",
    "    # If assignment is complete then return the assignment\n",
    "    if len(assignment) == len(csp_domains):\n",
    "        return assignment\n",
    "\n",
    "    # Select an unassigned hall\n",
    "    unassigned = [hall for hall in csp_domains if hall not in assignment]\n",
    "    hall = select_unassigned_variable(unassigned, csp_domains)\n",
    "\n",
    "    # Consider events for hall in order\n",
    "    for event in order_domain_values(hall, csp_domains, assignment, csp_constraints):\n",
    "        # If value is consistent with assignment\n",
    "        if is_consistent(hall, event, assignment, csp_constraints):\n",
    "            # Assign it and continue to build up the assignment\n",
    "            assignment[hall] = event\n",
    "            result = backtrack(csp_domains, csp_constraints, assignment)\n",
    "            # If we did not fail, return the result\n",
    "            if result:\n",
    "                return result\n",
    "            # If we failed, remove the assignment and backtrack\n",
    "            del assignment[hall]\n",
    "\n",
    "    # If no assignment could be made, return failure\n",
    "    return False\n",
    "\n",
    "def backtracking_search(csp_domains, csp_constraints):\n",
    "    # Start backtracking with an empty assignment\n",
    "    assignment = {}\n",
    "    return backtrack(csp_domains, csp_constraints, assignment)\n",
    "\n",
    "# Helper functions needed by the backtrack function\n",
    "\n",
    "def select_unassigned_variable(unassigned, csp_domains):\n",
    "    # Selects the next variable to assign using the Minimum Remaining Values (MRV) heuristic\n",
    "    return min(unassigned, key=lambda hall: len(csp_domains[hall]))\n",
    "\n",
    "def order_domain_values(hall, csp_domains, assignment, csp_constraints):\n",
    "    # Orders the values in the domain of the variable using the Least Constraining Value (LCV) heuristic\n",
    "    return sorted(csp_domains[hall], key=lambda event: lcv_score(hall, event, csp_domains, assignment, csp_constraints))\n",
    "\n",
    "def is_consistent(hall, event, assignment, csp_constraints):\n",
    "    # Check if an assignment is consistent with the assignments made so far\n",
    "    for (hall1, hall2) in csp_constraints:\n",
    "        if (hall == hall1 and hall2 in assignment and assignment[hall2] == event) or \\\n",
    "           (hall == hall2 and hall1 in assignment and assignment[hall1] == event):\n",
    "            return False\n",
    "    return True\n",
    "\n",
    "def lcv_score(hall, event, csp_domains, assignment, csp_constraints):\n",
    "    # Calculate the number of choices left for neighboring variables if we choose a particular value for the current variable\n",
    "    count = 0\n",
    "    for (hall1, hall2) in csp_constraints:\n",
    "        if hall == hall1 or hall == hall2:\n",
    "            neighbor = hall2 if hall == hall1 else hall1\n",
    "            if event in csp_domains[neighbor]:\n",
    "                count += 1\n",
    "    return count"
   ]
  },
  {
   "cell_type": "code",
   "execution_count": 22,
   "metadata": {
    "pycharm": {
     "name": "#%%\n"
    }
   },
   "outputs": [
    {
     "name": "stdout",
     "output_type": "stream",
     "text": [
      "test 1 is completed\n",
      "assignment: False\n"
     ]
    },
    {
     "ename": "TypeError",
     "evalue": "argument of type 'bool' is not iterable",
     "output_type": "error",
     "traceback": [
      "\u001B[1;31m---------------------------------------------------------------------------\u001B[0m",
      "\u001B[1;31mTypeError\u001B[0m                                 Traceback (most recent call last)",
      "Cell \u001B[1;32mIn[22], line 54\u001B[0m\n\u001B[0;32m     52\u001B[0m \u001B[38;5;28mprint\u001B[39m(\u001B[38;5;124mf\u001B[39m\u001B[38;5;124m'\u001B[39m\u001B[38;5;124massignment: \u001B[39m\u001B[38;5;132;01m{\u001B[39;00mresult\u001B[38;5;132;01m}\u001B[39;00m\u001B[38;5;124m'\u001B[39m)\n\u001B[0;32m     53\u001B[0m total_time \u001B[38;5;241m=\u001B[39m time\u001B[38;5;241m.\u001B[39mtime() \u001B[38;5;241m-\u001B[39m start_time\n\u001B[1;32m---> 54\u001B[0m \u001B[38;5;28;01mif\u001B[39;00m \u001B[43mcsp\u001B[49m\u001B[38;5;241;43m.\u001B[39;49m\u001B[43mis_result_valid\u001B[49m\u001B[43m(\u001B[49m\u001B[43mtest\u001B[49m\u001B[43m,\u001B[49m\u001B[43m \u001B[49m\u001B[43mresult\u001B[49m\u001B[43m)\u001B[49m \u001B[38;5;129;01mand\u001B[39;00m total_time \u001B[38;5;241m<\u001B[39m TIME_LIMIT:\n\u001B[0;32m     55\u001B[0m     tests_passed \u001B[38;5;241m+\u001B[39m\u001B[38;5;241m=\u001B[39m \u001B[38;5;241m1\u001B[39m\n\u001B[0;32m     56\u001B[0m \u001B[38;5;28;01melse\u001B[39;00m:\n",
      "File \u001B[1;32m~\\Desktop\\AI\\Practical\\Q2\\Helper_codes\\csp_helper.py:32\u001B[0m, in \u001B[0;36mis_result_valid\u001B[1;34m(test, result)\u001B[0m\n\u001B[0;32m     30\u001B[0m \u001B[38;5;28;01mwith\u001B[39;00m \u001B[38;5;28mopen\u001B[39m(\u001B[38;5;124mf\u001B[39m\u001B[38;5;124m'\u001B[39m\u001B[38;5;132;01m{\u001B[39;00mOUTPUT_PATH\u001B[38;5;132;01m}\u001B[39;00m\u001B[38;5;124m/\u001B[39m\u001B[38;5;132;01m{\u001B[39;00mtest\u001B[38;5;241m.\u001B[39mreplace(\u001B[38;5;124m\"\u001B[39m\u001B[38;5;124min\u001B[39m\u001B[38;5;124m\"\u001B[39m,\u001B[38;5;250m \u001B[39m\u001B[38;5;124m\"\u001B[39m\u001B[38;5;124mout\u001B[39m\u001B[38;5;124m\"\u001B[39m)\u001B[38;5;132;01m}\u001B[39;00m\u001B[38;5;124m'\u001B[39m, \u001B[38;5;124m'\u001B[39m\u001B[38;5;124mr\u001B[39m\u001B[38;5;124m'\u001B[39m) \u001B[38;5;28;01mas\u001B[39;00m f:\n\u001B[0;32m     31\u001B[0m     possible_outcomes \u001B[38;5;241m=\u001B[39m \u001B[38;5;28mmap\u001B[39m(\u001B[38;5;28mstr\u001B[39m\u001B[38;5;241m.\u001B[39mstrip, f\u001B[38;5;241m.\u001B[39mreadlines())\n\u001B[1;32m---> 32\u001B[0m \u001B[38;5;28;01mreturn\u001B[39;00m \u001B[43m_clean_result\u001B[49m\u001B[43m(\u001B[49m\u001B[43mresult\u001B[49m\u001B[43m)\u001B[49m \u001B[38;5;129;01min\u001B[39;00m possible_outcomes\n",
      "File \u001B[1;32m~\\Desktop\\AI\\Practical\\Q2\\Helper_codes\\csp_helper.py:26\u001B[0m, in \u001B[0;36m_clean_result\u001B[1;34m(result)\u001B[0m\n\u001B[0;32m     25\u001B[0m \u001B[38;5;28;01mdef\u001B[39;00m \u001B[38;5;21m_clean_result\u001B[39m(result):\n\u001B[1;32m---> 26\u001B[0m     \u001B[38;5;28;01mreturn\u001B[39;00m \u001B[38;5;124m'\u001B[39m\u001B[38;5;124m \u001B[39m\u001B[38;5;124m'\u001B[39m\u001B[38;5;241m.\u001B[39mjoin(\u001B[38;5;28mmap\u001B[39m(\u001B[38;5;28mstr\u001B[39m, result)) \u001B[38;5;28;01mif\u001B[39;00m result \u001B[38;5;241m!=\u001B[39m \u001B[38;5;124m'\u001B[39m\u001B[38;5;124mNO\u001B[39m\u001B[38;5;124m'\u001B[39m \u001B[38;5;129;01mand\u001B[39;00m \u001B[38;5;124;43m'\u001B[39;49m\u001B[38;5;124;43m \u001B[39;49m\u001B[38;5;124;43m'\u001B[39;49m\u001B[43m \u001B[49m\u001B[38;5;129;43;01mnot\u001B[39;49;00m\u001B[43m \u001B[49m\u001B[38;5;129;43;01min\u001B[39;49;00m\u001B[43m \u001B[49m\u001B[43mresult\u001B[49m \u001B[38;5;28;01melse\u001B[39;00m result\n",
      "\u001B[1;31mTypeError\u001B[0m: argument of type 'bool' is not iterable"
     ]
    }
   ],
   "source": [
    "import Helper_codes.csp_helper as csp\n",
    "import time\n",
    "import networkx as nx\n",
    "import matplotlib.pyplot as plt\n",
    "\n",
    "\n",
    "def plot_test_case(result, n, next_e_lines, test_num):   # Do not change this function. This is for plotting the assignment. \n",
    "    if result == 'NO':\n",
    "        return\n",
    "    reult_list = result.split()\n",
    "    reult_list = list(map(int, reult_list))\n",
    "    if len(reult_list) >= 15:\n",
    "        print(f'Too many colors to plot for test {test_num + 1}')\n",
    "        return\n",
    "\n",
    "    G = nx.Graph()\n",
    "    G.add_nodes_from(range(1, n + 1))\n",
    "    for edge in next_e_lines:\n",
    "        G.add_edge(edge[0], edge[1])\n",
    "    colors = ['red', 'green', 'blue', 'yellow', 'orange', 'purple', 'pink', 'brown', 'gray', 'black', 'cyan', 'magenta', 'olive', 'teal']\n",
    "    \n",
    "    color_map = []\n",
    "    for i in range(1, n + 1):\n",
    "        color_map.append(colors[reult_list[i - 1] - 1])\n",
    "          \n",
    "    nx.draw(G, node_color=color_map, with_labels=True)\n",
    "    plt.show()\n",
    " \n",
    "\n",
    "TIME_LIMIT = 3\n",
    "\n",
    "tests = csp.get_all_tests(prefix='csp_')\n",
    "tests_passed = 0\n",
    "for test_num, test in enumerate(tests):\n",
    "    n, m, m_next_lines, e, next_e_lines = csp.scan_test_input(test)\n",
    "    #################################################################\n",
    "    # (Point: 5% of total score)                                    #\n",
    "    # under this comment section implement a code to handle inputs  #\n",
    "    #################################################################\n",
    "    csp_domains = {hal: set(range(1, m + 1)) for hal in range(1, n + 1)}\n",
    "    for event, halls in enumerate(m_next_lines, start=1):\n",
    "        for hal in halls:\n",
    "            csp_domains[hal] = csp_domains[hal].intersection(set(m_next_lines[event - 1]))\n",
    "    csp_constraints = set()\n",
    "    for edge in next_e_lines:\n",
    "        csp_constraints.add((edge[0], edge[1]))\n",
    "        csp_constraints.add((edge[1], edge[0]))\n",
    "\n",
    "    start_time = time.time()\n",
    "    result = backtracking_search(csp_domains, csp_constraints)\n",
    "    print(f'test {test_num + 1} is completed')\n",
    "    print(f'assignment: {result}')\n",
    "    total_time = time.time() - start_time\n",
    "    if csp.is_result_valid(test, result) and total_time < TIME_LIMIT:\n",
    "        tests_passed += 1\n",
    "    else:\n",
    "        print(f'test {test} failed. time elapsed= {total_time}')\n",
    "    plot_test_case(result, n, next_e_lines, test_num)\n",
    "    print('----------------------------------------------------------')\n",
    "# (Point: 50% of your total score)                                    #\n",
    "print(f'Score = {tests_passed / len(tests) * 100}%')"
   ]
  },
  {
   "cell_type": "code",
   "execution_count": null,
   "metadata": {
    "pycharm": {
     "name": "#%%\n"
    }
   },
   "outputs": [],
   "source": []
  }
 ],
 "metadata": {
  "kernelspec": {
   "display_name": "Python 3 (ipykernel)",
   "language": "python",
   "name": "python3"
  },
  "language_info": {
   "codemirror_mode": {
    "name": "ipython",
    "version": 3
   },
   "file_extension": ".py",
   "mimetype": "text/x-python",
   "name": "python",
   "nbconvert_exporter": "python",
   "pygments_lexer": "ipython3",
   "version": "3.11.4"
  }
 },
 "nbformat": 4,
 "nbformat_minor": 4
}