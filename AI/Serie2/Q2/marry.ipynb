{
 "cells": [
  {
   "cell_type": "markdown",
   "metadata": {
    "pycharm": {
     "name": "#%% md\n"
    }
   },
   "source": [
    "<img src='http://www-scf.usc.edu/~ghasemig/images/sharif.png' alt=\"SUT logo\" width=300 height=300 align=left class=\"saturate\" >\n",
    "\n",
    "<br>\n",
    "<font>\n",
    "<div dir=ltr align=center>\n",
    "<font color=0F5298 size=7>\n",
    "    Artificial Intelligence <br>\n",
    "<font color=2565AE size=5>\n",
    "    Computer Engineering Department <br>\n",
    "    Spring 2023<br>\n",
    "<font color=3C99D size=5>\n",
    "    Practical Assignment 2 Solution - CSP <br>\n",
    "<font color=696880 size=4>\n",
    "    Mohammad Mahdi Abootorabi \n",
    "\n",
    "____"
   ]
  },
  {
   "cell_type": "markdown",
   "metadata": {
    "pycharm": {
     "name": "#%% md\n"
    }
   },
   "source": [
    "# Q1- CSP (50 Points)"
   ]
  },
  {
   "cell_type": "markdown",
   "metadata": {
    "pycharm": {
     "name": "#%% md\n"
    }
   },
   "source": [
    "In this question, we are going to plan for some future events in the country. There are some halls that can host different kinds of events, such as concerts, sports events, etc.\n",
    "\n",
    "Two halls are considered adjacent if the distance between them is less than a threshold. Two adjacent halls cannot host the same event.\n",
    "\n",
    "With these constraints, complete the code below and assign an event to each hall to satisfy every constraint.\n",
    "\n"
   ]
  },
  {
   "cell_type": "markdown",
   "metadata": {
    "pycharm": {
     "name": "#%% md\n"
    }
   },
   "source": [
    "## Example\n",
    "Look at this example carefully:<br>\n",
    "<img src=\"Images/CSP_example.png\" width=\"500\"/>\n",
    "  - There are $6$ halls and $3$ kinds of events.\n",
    "  - The halls in which each event can be held (for example, sport events can be held only at hall 1, 4 and 6).\n",
    "  - Adjacent halls (we show adjacent halls here with a line between them) cannot host the same event (for example, halls 1 and 2 both cannot host concert events)."
   ]
  },
  {
   "cell_type": "markdown",
   "metadata": {
    "pycharm": {
     "name": "#%% md\n"
    }
   },
   "source": [
    "## Note\n",
    "  - You _must_ implement and use AC-3 algorithm.\n",
    "  - You will _probably_ need to utilize the heuristic algorithms you have learned (e.g. MRV and LCV) or consider nearly tree-structured graphs approach in order to pass all tests in an appropriate time."
   ]
  },
  {
   "cell_type": "markdown",
   "metadata": {
    "pycharm": {
     "name": "#%% md\n"
    }
   },
   "source": [
    "## Input\n",
    "  - The first line consists of $N$ (count of halls) and $M$ (count of event kinds).\n",
    "  - In the following $M$ lines, the $i$ th line ($1 \\le i \\le M$) is a list of preferred halls for the $i$ th event (separated by space).\n",
    "  - In the next line, $E$, the total number of adjacent constraints (edges in the previous graph) are given.\n",
    "  - in each of the following $E$ lines, a pair of hall numbers (separated by space) is given.\n",
    "$$1 \\le N \\le 50$$\n",
    "$$1 \\le M \\le 50$$\n",
    "\n",
    "### Sample Input\n",
    "This sample describes the previous example (sport=1, concert=2, fashion=3).\n",
    "```\n",
    "6 3\n",
    "1 4 6\n",
    "1 2 3 5 6\n",
    "3 4 5\n",
    "5\n",
    "1 2\n",
    "2 3\n",
    "3 4\n",
    "3 5\n",
    "3 6\n",
    "```"
   ]
  },
  {
   "cell_type": "markdown",
   "metadata": {
    "pycharm": {
     "name": "#%% md\n"
    }
   },
   "source": [
    "## Output\n",
    "In the only line, print:\n",
    "  - list of one appropriate assignment ordered by hall number (separated by space).\n",
    "  - `NO` if there isn't.\n",
    "\n",
    "### Sample Output\n",
    "One possible solution to the example above is {Hall1=sport, Hall2=concert , Hall3=fashion, Hall4=sport, Hall5=concert, Hall6=concert}. So:\n",
    "```\n",
    "1 2 3 1 2 2\n",
    "```\n",
    "In another example, If Hall3 was not an option for fashion, then the answer would be:\n",
    "```\n",
    "NO\n",
    "```\n",
    "Because then hall 2 or 3 would be empty."
   ]
  },
  {
   "cell_type": "markdown",
   "metadata": {
    "pycharm": {
     "name": "#%% md\n"
    }
   },
   "source": [
    "## Your code\n",
    "**Note:** It's OK to change the signature for the given functions and the given structure is just a suggestion to help you with the implementation. (you can't remove or add any cells)"
   ]
  },
  {
   "cell_type": "code",
   "execution_count": 1,
   "metadata": {
    "is_executing": true,
    "pycharm": {
     "name": "#%%\n"
    }
   },
   "outputs": [],
   "source": [
    "import copy\n",
    "from collections import defaultdict\n",
    "\n",
    "class Auxiliary:\n",
    "    def __init__(self, halls_preferences, hall_edges, halls_count) -> None:\n",
    "        self.halls_preferences = halls_preferences\n",
    "        self.hall_edges = hall_edges\n",
    "        self.halls_count = halls_count\n",
    "        self.neighbors = self.get_neighbors()\n",
    "\n",
    "    @staticmethod\n",
    "    def parse_Auxiliary(halls_count, department_count, preferred_halls, e, next_e_lines):\n",
    "        halls_preferences = {}\n",
    "        for i in range(1, halls_count + 1):\n",
    "           halls_preferences[i] = []\n",
    "         \n",
    "        halls_preferences = defaultdict(list)\n",
    "        [halls_preferences[hall].append(index) for index, halls in enumerate(preferred_halls, start=1) for hall in halls]\n",
    "        hall_edges = [(int(edge[0]), int(edge[1])) for edge in next_e_lines]\n",
    "        return Auxiliary(dict(halls_preferences), hall_edges, halls_count) \n",
    "\n",
    "    def get_neighbors(self):\n",
    "        neighbours = dict((i, []) for i in range(1, self.halls_count + 1))\n",
    "\n",
    "        for edge in self.hall_edges:\n",
    "            neighbours[edge[0]].append(edge[1])\n",
    "            neighbours[edge[1]].append(edge[0])\n",
    "        return neighbours\n",
    "\n",
    "    def constraint_satisfied(self, assignments):\n",
    "        return not any(assignments[e1] == assignments[e2] for e1, e2 in self.hall_edges)\n",
    "\n",
    "\n",
    "    def select_unassigned_variable(self, assignments):\n",
    "        return next((i for i in range(1, self.halls_count + 1) if i not in assignments), None)\n",
    "    \n",
    "    def order_domain_values(self, assignments, variable):\n",
    "        return self.halls_preferences[variable]\n",
    "\n",
    "    def clone(self):\n",
    "        return copy.deepcopy(self)\n"
   ]
  },
  {
   "cell_type": "code",
   "execution_count": 2,
   "metadata": {
    "pycharm": {
     "name": "#%%\n"
    }
   },
   "outputs": [],
   "source": [
    "def ac_3(tools: Auxiliary, assignments):\n",
    "    queue = list(tools.hall_edges)  # Copy the list to avoid modifying the original\n",
    "    while queue:\n",
    "       e1, e2 = queue.pop(0)\n",
    "       if revise(tools, e1, e2):\n",
    "          if is_halls_preferences_empty(tools, e1):\n",
    "             return False\n",
    "          extend_queue_with_neighbors(queue, tools, e1, e2)\n",
    "    return True\n",
    "\n",
    "def extend_queue_with_neighbors(queue, tools, e1, e2):\n",
    "    queue.extend((e1, e) for e in tools.neighbors[e1] if e != e2)\n",
    "    \n",
    "def is_halls_preferences_empty(tools, e):\n",
    "    return not tools.halls_preferences[e]\n",
    "    \n",
    "def revise(tools, e1, e2):\n",
    "    revised = False\n",
    "    for i in tools.domains[e1]:\n",
    "        if len(tools.domains[e2]) == 1 and tools.domains[e2] == i:\n",
    "            tools.domains[e1].remove(i)\n",
    "            revised = True\n",
    "    return revised"
   ]
  },
  {
   "cell_type": "code",
   "execution_count": 3,
   "metadata": {
    "pycharm": {
     "name": "#%%\n"
    }
   },
   "outputs": [],
   "source": [
    "import copy\n",
    "\n",
    "def backtrack(tools: Auxiliary, assignments):\n",
    "    if is_assignment_complete(tools, assignments):\n",
    "        if is_assignment_consistent(tools, assignments):\n",
    "            return assignments\n",
    "        return None\n",
    "\n",
    "    variable = select_unassigned_variable(tools, assignments)\n",
    "    for value in order_domain_values(tools, assignments, variable):\n",
    "        set_assignment(assignments, variable, value)\n",
    "        cloned_tools = clone_tools(tools)\n",
    "        if ac_3(cloned_tools, assignments):\n",
    "            result = backtrack(cloned_tools, assignments)\n",
    "            if result:\n",
    "                return result\n",
    "        remove_assignment(assignments, variable)\n",
    "\n",
    "    return None\n",
    "\n",
    "def is_assignment_complete(tools, assignments):\n",
    "    return len(assignments) == tools.halls_count\n",
    "\n",
    "def is_assignment_consistent(tools, assignments):\n",
    "    return tools.constraint_satisfied(assignments)\n",
    "\n",
    "def select_unassigned_variable(tools, assignments):\n",
    "    return tools.select_unassigned_variable(assignments)\n",
    "\n",
    "def order_domain_values(tools, assignments, variable):\n",
    "    return tools.order_domain_values(assignments, variable)\n",
    "\n",
    "def set_assignment(assignments, variable, value):\n",
    "    assignments[variable] = value\n",
    "\n",
    "def remove_assignment(assignments, variable):\n",
    "    assignments.pop(variable)\n",
    "\n",
    "def clone_tools(tools):\n",
    "    return copy.deepcopy(tools)\n",
    "\n",
    "\n",
    "def backtracking_search(tools):\n",
    "    assignments = backtrack(tools, {})\n",
    "    if assignments:\n",
    "        assignments_ordered = []\n",
    "        for i in range(1, tools.halls_count + 1):\n",
    "            assignments_ordered.append(assignments[i])\n",
    "        assignments_str = ' '.join(map(str, assignments_ordered))\n",
    "    else:\n",
    "        assignments_str = 'NO'\n",
    "\n",
    "    return assignments_str"
   ]
  },
  {
   "cell_type": "code",
   "execution_count": 4,
   "metadata": {
    "pycharm": {
     "name": "#%%\n"
    }
   },
   "outputs": [
    {
     "ename": "AttributeError",
     "evalue": "'Auxiliary' object has no attribute 'domains'",
     "output_type": "error",
     "traceback": [
      "\u001B[1;31m---------------------------------------------------------------------------\u001B[0m",
      "\u001B[1;31mAttributeError\u001B[0m                            Traceback (most recent call last)",
      "Cell \u001B[1;32mIn[4], line 42\u001B[0m\n\u001B[0;32m     40\u001B[0m tools \u001B[38;5;241m=\u001B[39m Auxiliary\u001B[38;5;241m.\u001B[39mparse_Auxiliary(n, m, m_next_lines, e, next_e_lines)\n\u001B[0;32m     41\u001B[0m start_time \u001B[38;5;241m=\u001B[39m time\u001B[38;5;241m.\u001B[39mtime()\n\u001B[1;32m---> 42\u001B[0m result \u001B[38;5;241m=\u001B[39m \u001B[43mbacktracking_search\u001B[49m\u001B[43m(\u001B[49m\u001B[43mtools\u001B[49m\u001B[43m)\u001B[49m\n\u001B[0;32m     44\u001B[0m \u001B[38;5;28mprint\u001B[39m(\u001B[38;5;124mf\u001B[39m\u001B[38;5;124m'\u001B[39m\u001B[38;5;124mtest \u001B[39m\u001B[38;5;132;01m{\u001B[39;00mtest_num\u001B[38;5;250m \u001B[39m\u001B[38;5;241m+\u001B[39m\u001B[38;5;250m \u001B[39m\u001B[38;5;241m1\u001B[39m\u001B[38;5;132;01m}\u001B[39;00m\u001B[38;5;124m is completed\u001B[39m\u001B[38;5;124m'\u001B[39m)\n\u001B[0;32m     45\u001B[0m \u001B[38;5;28mprint\u001B[39m(\u001B[38;5;124mf\u001B[39m\u001B[38;5;124m'\u001B[39m\u001B[38;5;124massignment: \u001B[39m\u001B[38;5;132;01m{\u001B[39;00mresult\u001B[38;5;132;01m}\u001B[39;00m\u001B[38;5;124m'\u001B[39m)\n",
      "Cell \u001B[1;32mIn[3], line 44\u001B[0m, in \u001B[0;36mbacktracking_search\u001B[1;34m(tools)\u001B[0m\n\u001B[0;32m     43\u001B[0m \u001B[38;5;28;01mdef\u001B[39;00m \u001B[38;5;21mbacktracking_search\u001B[39m(tools):\n\u001B[1;32m---> 44\u001B[0m     assignments \u001B[38;5;241m=\u001B[39m \u001B[43mbacktrack\u001B[49m\u001B[43m(\u001B[49m\u001B[43mtools\u001B[49m\u001B[43m,\u001B[49m\u001B[43m \u001B[49m\u001B[43m{\u001B[49m\u001B[43m}\u001B[49m\u001B[43m)\u001B[49m\n\u001B[0;32m     45\u001B[0m     \u001B[38;5;28;01mif\u001B[39;00m assignments:\n\u001B[0;32m     46\u001B[0m         assignments_ordered \u001B[38;5;241m=\u001B[39m []\n",
      "Cell \u001B[1;32mIn[3], line 13\u001B[0m, in \u001B[0;36mbacktrack\u001B[1;34m(tools, assignments)\u001B[0m\n\u001B[0;32m     11\u001B[0m set_assignment(assignments, variable, value)\n\u001B[0;32m     12\u001B[0m cloned_tools \u001B[38;5;241m=\u001B[39m clone_tools(tools)\n\u001B[1;32m---> 13\u001B[0m \u001B[38;5;28;01mif\u001B[39;00m \u001B[43mac_3\u001B[49m\u001B[43m(\u001B[49m\u001B[43mcloned_tools\u001B[49m\u001B[43m,\u001B[49m\u001B[43m \u001B[49m\u001B[43massignments\u001B[49m\u001B[43m)\u001B[49m:\n\u001B[0;32m     14\u001B[0m     result \u001B[38;5;241m=\u001B[39m backtrack(cloned_tools, assignments)\n\u001B[0;32m     15\u001B[0m     \u001B[38;5;28;01mif\u001B[39;00m result:\n",
      "Cell \u001B[1;32mIn[2], line 5\u001B[0m, in \u001B[0;36mac_3\u001B[1;34m(tools, assignments)\u001B[0m\n\u001B[0;32m      3\u001B[0m \u001B[38;5;28;01mwhile\u001B[39;00m queue:\n\u001B[0;32m      4\u001B[0m    e1, e2 \u001B[38;5;241m=\u001B[39m queue\u001B[38;5;241m.\u001B[39mpop(\u001B[38;5;241m0\u001B[39m)\n\u001B[1;32m----> 5\u001B[0m    \u001B[38;5;28;01mif\u001B[39;00m \u001B[43mrevise\u001B[49m\u001B[43m(\u001B[49m\u001B[43mtools\u001B[49m\u001B[43m,\u001B[49m\u001B[43m \u001B[49m\u001B[43me1\u001B[49m\u001B[43m,\u001B[49m\u001B[43m \u001B[49m\u001B[43me2\u001B[49m\u001B[43m)\u001B[49m:\n\u001B[0;32m      6\u001B[0m       \u001B[38;5;28;01mif\u001B[39;00m is_halls_preferences_empty(tools, e1):\n\u001B[0;32m      7\u001B[0m          \u001B[38;5;28;01mreturn\u001B[39;00m \u001B[38;5;28;01mFalse\u001B[39;00m\n",
      "Cell \u001B[1;32mIn[2], line 19\u001B[0m, in \u001B[0;36mrevise\u001B[1;34m(tools, e1, e2)\u001B[0m\n\u001B[0;32m     17\u001B[0m \u001B[38;5;28;01mdef\u001B[39;00m \u001B[38;5;21mrevise\u001B[39m(tools, e1, e2):\n\u001B[0;32m     18\u001B[0m     revised \u001B[38;5;241m=\u001B[39m \u001B[38;5;28;01mFalse\u001B[39;00m\n\u001B[1;32m---> 19\u001B[0m     \u001B[38;5;28;01mfor\u001B[39;00m i \u001B[38;5;129;01min\u001B[39;00m \u001B[43mtools\u001B[49m\u001B[38;5;241;43m.\u001B[39;49m\u001B[43mdomains\u001B[49m[e1]:\n\u001B[0;32m     20\u001B[0m         \u001B[38;5;28;01mif\u001B[39;00m \u001B[38;5;28mlen\u001B[39m(tools\u001B[38;5;241m.\u001B[39mdomains[e2]) \u001B[38;5;241m==\u001B[39m \u001B[38;5;241m1\u001B[39m \u001B[38;5;129;01mand\u001B[39;00m tools\u001B[38;5;241m.\u001B[39mdomains[e2] \u001B[38;5;241m==\u001B[39m i:\n\u001B[0;32m     21\u001B[0m             tools\u001B[38;5;241m.\u001B[39mdomains[e1]\u001B[38;5;241m.\u001B[39mremove(i)\n",
      "\u001B[1;31mAttributeError\u001B[0m: 'Auxiliary' object has no attribute 'domains'"
     ]
    }
   ],
   "source": [
    "import Helper_codes.csp_helper as csp\n",
    "import time\n",
    "import networkx as nx\n",
    "import matplotlib.pyplot as plt\n",
    "\n",
    "\n",
    "def plot_test_case(result, n, next_e_lines, test_num):   # Do not change this function. This is for plotting the assignment. \n",
    "    if result == 'NO':\n",
    "        return\n",
    "    reult_list = result.split()\n",
    "    reult_list = list(map(int, reult_list))\n",
    "    if len(reult_list) >= 15:\n",
    "        print(f'Too many colors to plot for test {test_num + 1}')\n",
    "        return\n",
    "\n",
    "    G = nx.Graph()\n",
    "    G.add_nodes_from(range(1, n + 1))\n",
    "    for edge in next_e_lines:\n",
    "        G.add_edge(edge[0], edge[1])\n",
    "    colors = ['red', 'green', 'blue', 'yellow', 'orange', 'purple', 'pink', 'brown', 'gray', 'black', 'cyan', 'magenta', 'olive', 'teal']\n",
    "    \n",
    "    color_map = []\n",
    "    for i in range(1, n + 1):\n",
    "        color_map.append(colors[reult_list[i - 1] - 1])\n",
    "          \n",
    "    nx.draw(G, node_color=color_map, with_labels=True)\n",
    "    plt.show()\n",
    " \n",
    "\n",
    "TIME_LIMIT = 3\n",
    "\n",
    "tests = csp.get_all_tests(prefix='csp_')\n",
    "tests_passed = 0\n",
    "for test_num, test in enumerate(tests):\n",
    "    n, m, m_next_lines, e, next_e_lines = csp.scan_test_input(test)\n",
    "    #################################################################\n",
    "    # (Point: 5% of total score)                                    #\n",
    "    # under this comment section implement a code to handle inputs  #\n",
    "    #################################################################\n",
    "    tools = Auxiliary.parse_Auxiliary(n, m, m_next_lines, e, next_e_lines)\n",
    "    start_time = time.time()\n",
    "    result = backtracking_search(tools)\n",
    "    \n",
    "    print(f'test {test_num + 1} is completed')\n",
    "    print(f'assignment: {result}')\n",
    "    total_time = time.time() - start_time\n",
    "    if csp.is_result_valid(test, result) and total_time < TIME_LIMIT:\n",
    "        tests_passed += 1\n",
    "    else:\n",
    "        print(f'test {test} failed. time elapsed= {total_time}')\n",
    "    plot_test_case(result, n, next_e_lines, test_num)\n",
    "    print('----------------------------------------------------------')\n",
    "# (Point: 50% of your total score)                                    #\n",
    "print(f'Score = {tests_passed / len(tests) * 100}%')"
   ]
  }
 ],
 "metadata": {
  "kernelspec": {
   "display_name": "Python 3",
   "language": "python",
   "name": "python3"
  },
  "language_info": {
   "codemirror_mode": {
    "name": "ipython",
    "version": 3
   },
   "file_extension": ".py",
   "mimetype": "text/x-python",
   "name": "python",
   "nbconvert_exporter": "python",
   "pygments_lexer": "ipython3",
   "version": "3.7.3"
  },
  "orig_nbformat": 4
 },
 "nbformat": 4,
 "nbformat_minor": 2
}