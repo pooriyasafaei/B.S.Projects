{
 "nbformat": 4,
 "nbformat_minor": 0,
 "metadata": {
  "colab": {
   "provenance": []
  },
  "kernelspec": {
   "display_name": "Julia",
   "language": "julia",
   "name": "julia"
  },
  "language_info": {
   "file_extension": ".jl",
   "mimetype": "application/julia",
   "name": "julia"
  },
  "gpuClass": "standard"
 },
 "cells": [
  {
   "cell_type": "markdown",
   "source": [
    "<font face=\"XB Zar\" size=5><div dir=rtl align=center>\n",
    "<font face=\"IranNastaliq\" size=5>\n",
    "به نام خدا\n",
    "</font>\n",
    "<br>\n",
    "<font size=3>\n",
    "دانشگاه صنعتی شریف - دانشکده مهندسی کامپیوتر\n",
    "</font>\n",
    "<br>\n",
    "<font color=blue size=5>\n",
    "تمرین امتیازی بخش بهینه سازی\n",
    "</font><br>\n",
    "<font color=blue size=5>\n",
    "نوت بوک زبان جولیا\n",
    "</font>\n",
    "# <img src=\"https://github.com/JuliaLang/julia-logo-graphics/raw/master/images/julia-logo-color.png\" height=\"100\" />"
   ],
   "metadata": {
    "id": "k1NqOXzgIlk_",
    "pycharm": {
     "name": "#%% md\n"
    }
   }
  },
  {
   "cell_type": "markdown",
   "metadata": {
    "id": "tQ1r1bbb0yBv",
    "pycharm": {
     "name": "#%% md\n"
    }
   },
   "source": [
    "\n",
    "\n",
    "<font face=\"XB Zar\" size=4><div dir=rtl id=\"1\">\n",
    "<font color=\"red\" size=5>**نصب جولیا و پکیج های لازم**</font>\n"
   ]
  },
  {
   "cell_type": "code",
   "metadata": {
    "id": "GIeFXS0F0zww",
    "colab": {
     "base_uri": "https://localhost:8080/"
    },
    "outputId": "1b49bcce-da78-48e7-c6e6-c71ecbd10c49",
    "cellView": "form",
    "pycharm": {
     "name": "#%%\n",
     "is_executing": true
    }
   },
   "source": [
    "# @title\n",
    "%%shell\n",
    "set -e\n",
    "\n",
    "#---------------------------------------------------#\n",
    "JULIA_VERSION=\"1.8.2\" # any version ≥ 0.7.0\n",
    "JULIA_PACKAGES=\"IJulia BenchmarkTools\"\n",
    "JULIA_PACKAGES_IF_GPU=\"CUDA\" # or CuArrays for older Julia versions\n",
    "JULIA_NUM_THREADS=2\n",
    "#---------------------------------------------------#\n",
    "\n",
    "if [ -z `which julia` ]; then\n",
    "  # Install Julia\n",
    "  JULIA_VER=`cut -d '.' -f -2 <<< \"$JULIA_VERSION\"`\n",
    "  echo \"Installing Julia $JULIA_VERSION on the current Colab Runtime...\"\n",
    "  BASE_URL=\"https://julialang-s3.julialang.org/bin/linux/x64\"\n",
    "  URL=\"$BASE_URL/$JULIA_VER/julia-$JULIA_VERSION-linux-x86_64.tar.gz\"\n",
    "  wget -nv $URL -O /tmp/julia.tar.gz # -nv means \"not verbose\"\n",
    "  tar -x -f /tmp/julia.tar.gz -C /usr/local --strip-components 1\n",
    "  rm /tmp/julia.tar.gz\n",
    "\n",
    "  # Install Packages\n",
    "  nvidia-smi -L &> /dev/null && export GPU=1 || export GPU=0\n",
    "  if [ $GPU -eq 1 ]; then\n",
    "    JULIA_PACKAGES=\"$JULIA_PACKAGES $JULIA_PACKAGES_IF_GPU\"\n",
    "  fi\n",
    "  for PKG in `echo $JULIA_PACKAGES`; do\n",
    "    echo \"Installing Julia package $PKG...\"\n",
    "    julia -e 'using Pkg; pkg\"add '$PKG'; precompile;\"' &> /dev/null\n",
    "  done\n",
    "\n",
    "  # Install kernel and rename it to \"julia\"\n",
    "  echo \"Installing IJulia kernel...\"\n",
    "  julia -e 'using IJulia; IJulia.installkernel(\"julia\", env=Dict(\n",
    "      \"JULIA_NUM_THREADS\"=>\"'\"$JULIA_NUM_THREADS\"'\"))'\n",
    "  KERNEL_DIR=`julia -e \"using IJulia; print(IJulia.kerneldir())\"`\n",
    "  KERNEL_NAME=`ls -d \"$KERNEL_DIR\"/julia*`\n",
    "  mv -f $KERNEL_NAME \"$KERNEL_DIR\"/julia\n",
    "\n",
    "  echo ''\n",
    "  echo \"Successfully installed `julia -v`!\"\n",
    "  echo \"Please reload this page (press Ctrl+R, ⌘+R, or the F5 key) then\"\n",
    "  echo \"jump to the 'Checking the Installation' section.\"\n",
    "fi"
   ],
   "execution_count": null,
   "outputs": []
  },
  {
   "cell_type": "markdown",
   "source": [
    "## reload the page !"
   ],
   "metadata": {
    "id": "zUCjFdT7zled",
    "pycharm": {
     "name": "#%% md\n"
    }
   }
  },
  {
   "cell_type": "code",
   "metadata": {
    "id": "EEzvvzCl1i0F",
    "colab": {
     "base_uri": "https://localhost:8080/"
    },
    "outputId": "5a95b5a5-a85f-4b4a-f31d-ced00a3273ea",
    "pycharm": {
     "name": "#%%\n",
     "is_executing": true
    }
   },
   "source": [
    "versioninfo()"
   ],
   "execution_count": null,
   "outputs": []
  },
  {
   "cell_type": "code",
   "source": [
    "] add COBREXA"
   ],
   "metadata": {
    "id": "BR79zLt4eJP2",
    "colab": {
     "base_uri": "https://localhost:8080/"
    },
    "outputId": "d629316d-0bf6-4369-9390-c80525c53187",
    "collapsed": true,
    "pycharm": {
     "name": "#%%\n"
    }
   },
   "execution_count": null,
   "outputs": [
    {
     "output_type": "stream",
     "name": "stderr",
     "text": [
      "\u001B[32m\u001B[1m    Updating\u001B[22m\u001B[39m registry at `~/.julia/registries/General.toml`\n",
      "\u001B[32m\u001B[1m   Resolving\u001B[22m\u001B[39m package versions...\n",
      "\u001B[32m\u001B[1m   Installed\u001B[22m\u001B[39m libaec_jll ─────────── v1.0.6+1\n",
      "\u001B[32m\u001B[1m   Installed\u001B[22m\u001B[39m StableRNGs ─────────── v1.0.0\n",
      "\u001B[32m\u001B[1m   Installed\u001B[22m\u001B[39m XML2_jll ───────────── v2.10.4+0\n",
      "\u001B[32m\u001B[1m   Installed\u001B[22m\u001B[39m MPICH_jll ──────────── v4.1.2+0\n",
      "\u001B[32m\u001B[1m   Installed\u001B[22m\u001B[39m DiffRules ──────────── v1.15.1\n",
      "\u001B[32m\u001B[1m   Installed\u001B[22m\u001B[39m OpenSSL_jll ────────── v3.0.10+0\n",
      "\u001B[32m\u001B[1m   Installed\u001B[22m\u001B[39m DiffResults ────────── v1.1.0\n",
      "\u001B[32m\u001B[1m   Installed\u001B[22m\u001B[39m MutableArithmetics ─── v1.3.2\n",
      "\u001B[32m\u001B[1m   Installed\u001B[22m\u001B[39m SBML ───────────────── v1.4.4\n",
      "\u001B[32m\u001B[1m   Installed\u001B[22m\u001B[39m CodecBzip2 ─────────── v0.8.0\n",
      "\u001B[32m\u001B[1m   Installed\u001B[22m\u001B[39m SpecialFunctions ───── v2.3.1\n",
      "\u001B[32m\u001B[1m   Installed\u001B[22m\u001B[39m Bzip2_jll ──────────── v1.0.8+0\n",
      "\u001B[32m\u001B[1m   Installed\u001B[22m\u001B[39m IrrationalConstants ── v0.2.2\n",
      "\u001B[32m\u001B[1m   Installed\u001B[22m\u001B[39m IfElse ─────────────── v0.1.1\n",
      "\u001B[32m\u001B[1m   Installed\u001B[22m\u001B[39m LLVMOpenMP_jll ─────── v15.0.4+0\n",
      "\u001B[32m\u001B[1m   Installed\u001B[22m\u001B[39m MicrosoftMPI_jll ───── v10.1.3+4\n",
      "\u001B[32m\u001B[1m   Installed\u001B[22m\u001B[39m DistributedData ────── v0.2.0\n",
      "\u001B[32m\u001B[1m   Installed\u001B[22m\u001B[39m PikaParser ─────────── v0.5.2\n",
      "\u001B[32m\u001B[1m   Installed\u001B[22m\u001B[39m StaticArraysCore ───── v1.4.2\n",
      "\u001B[32m\u001B[1m   Installed\u001B[22m\u001B[39m NaNMath ────────────── v1.0.2\n",
      "\u001B[32m\u001B[1m   Installed\u001B[22m\u001B[39m Libiconv_jll ───────── v1.17.0+0\n",
      "\u001B[32m\u001B[1m   Installed\u001B[22m\u001B[39m Unitful ────────────── v1.17.0\n",
      "\u001B[32m\u001B[1m   Installed\u001B[22m\u001B[39m StaticArrays ───────── v1.6.3\n",
      "\u001B[32m\u001B[1m   Installed\u001B[22m\u001B[39m OpenMPI_jll ────────── v4.1.5+0\n",
      "\u001B[32m\u001B[1m   Installed\u001B[22m\u001B[39m ConstructionBase ───── v1.5.4\n",
      "\u001B[32m\u001B[1m   Installed\u001B[22m\u001B[39m SBML_jll ───────────── v5.20.1+0\n",
      "\u001B[32m\u001B[1m   Installed\u001B[22m\u001B[39m TranscodingStreams ─── v0.9.13\n",
      "\u001B[32m\u001B[1m   Installed\u001B[22m\u001B[39m JuMP ───────────────── v1.15.0\n",
      "\u001B[32m\u001B[1m   Installed\u001B[22m\u001B[39m ChainRulesCore ─────── v1.16.0\n",
      "\u001B[32m\u001B[1m   Installed\u001B[22m\u001B[39m OrderedCollections ─── v1.6.2\n",
      "\u001B[32m\u001B[1m   Installed\u001B[22m\u001B[39m SnoopPrecompile ────── v1.0.3\n",
      "\u001B[32m\u001B[1m   Installed\u001B[22m\u001B[39m HDF5 ───────────────── v0.16.16\n",
      "\u001B[32m\u001B[1m   Installed\u001B[22m\u001B[39m COBREXA ────────────── v1.5.1\n",
      "\u001B[32m\u001B[1m   Installed\u001B[22m\u001B[39m ForwardDiff ────────── v0.10.36\n",
      "\u001B[32m\u001B[1m   Installed\u001B[22m\u001B[39m MPIPreferences ─────── v0.1.9\n",
      "\u001B[32m\u001B[1m   Installed\u001B[22m\u001B[39m MPItrampoline_jll ──── v5.3.1+0\n",
      "\u001B[32m\u001B[1m   Installed\u001B[22m\u001B[39m LogExpFunctions ────── v0.3.26\n",
      "\u001B[32m\u001B[1m   Installed\u001B[22m\u001B[39m DataStructures ─────── v0.18.15\n",
      "\u001B[32m\u001B[1m   Installed\u001B[22m\u001B[39m MAT ────────────────── v0.10.5\n",
      "\u001B[32m\u001B[1m   Installed\u001B[22m\u001B[39m CommonSubexpressions ─ v0.3.0\n",
      "\u001B[32m\u001B[1m   Installed\u001B[22m\u001B[39m Requires ───────────── v1.3.0\n",
      "\u001B[32m\u001B[1m   Installed\u001B[22m\u001B[39m BufferedStreams ────── v1.2.1\n",
      "\u001B[32m\u001B[1m   Installed\u001B[22m\u001B[39m OpenSpecFun_jll ────── v0.5.5+0\n",
      "\u001B[32m\u001B[1m   Installed\u001B[22m\u001B[39m Compat ─────────────── v4.9.0\n",
      "\u001B[32m\u001B[1m   Installed\u001B[22m\u001B[39m InverseFunctions ───── v0.1.12\n",
      "\u001B[32m\u001B[1m   Installed\u001B[22m\u001B[39m MacroTools ─────────── v0.5.11\n",
      "\u001B[32m\u001B[1m   Installed\u001B[22m\u001B[39m HDF5_jll ───────────── v1.14.2+1\n",
      "\u001B[32m\u001B[1m   Installed\u001B[22m\u001B[39m ChangesOfVariables ─── v0.1.8\n",
      "\u001B[32m\u001B[1m   Installed\u001B[22m\u001B[39m CodecZlib ──────────── v0.7.2\n",
      "\u001B[32m\u001B[1m   Installed\u001B[22m\u001B[39m DocStringExtensions ── v0.9.3\n",
      "\u001B[32m\u001B[1m   Installed\u001B[22m\u001B[39m MathOptInterface ───── v1.20.0\n",
      "\u001B[32m\u001B[1m    Updating\u001B[22m\u001B[39m `~/.julia/environments/v1.8/Project.toml`\n",
      " \u001B[90m [babc4406] \u001B[39m\u001B[92m+ COBREXA v1.5.1\u001B[39m\n",
      "\u001B[32m\u001B[1m    Updating\u001B[22m\u001B[39m `~/.julia/environments/v1.8/Manifest.toml`\n",
      " \u001B[90m [e1450e63] \u001B[39m\u001B[92m+ BufferedStreams v1.2.1\u001B[39m\n",
      " \u001B[90m [babc4406] \u001B[39m\u001B[92m+ COBREXA v1.5.1\u001B[39m\n",
      " \u001B[90m [d360d2e6] \u001B[39m\u001B[92m+ ChainRulesCore v1.16.0\u001B[39m\n",
      " \u001B[90m [9e997f8a] \u001B[39m\u001B[92m+ ChangesOfVariables v0.1.8\u001B[39m\n",
      " \u001B[90m [523fee87] \u001B[39m\u001B[92m+ CodecBzip2 v0.8.0\u001B[39m\n",
      " \u001B[90m [944b1d66] \u001B[39m\u001B[92m+ CodecZlib v0.7.2\u001B[39m\n",
      " \u001B[90m [bbf7d656] \u001B[39m\u001B[92m+ CommonSubexpressions v0.3.0\u001B[39m\n",
      " \u001B[90m [34da2185] \u001B[39m\u001B[92m+ Compat v4.9.0\u001B[39m\n",
      " \u001B[90m [187b0558] \u001B[39m\u001B[92m+ ConstructionBase v1.5.4\u001B[39m\n",
      " \u001B[90m [864edb3b] \u001B[39m\u001B[92m+ DataStructures v0.18.15\u001B[39m\n",
      " \u001B[90m [163ba53b] \u001B[39m\u001B[92m+ DiffResults v1.1.0\u001B[39m\n",
      " \u001B[90m [b552c78f] \u001B[39m\u001B[92m+ DiffRules v1.15.1\u001B[39m\n",
      " \u001B[90m [f6a0035f] \u001B[39m\u001B[92m+ DistributedData v0.2.0\u001B[39m\n",
      " \u001B[90m [ffbed154] \u001B[39m\u001B[92m+ DocStringExtensions v0.9.3\u001B[39m\n",
      " \u001B[90m [f6369f11] \u001B[39m\u001B[92m+ ForwardDiff v0.10.36\u001B[39m\n",
      "\u001B[33m⌅\u001B[39m\u001B[90m [f67ccb44] \u001B[39m\u001B[92m+ HDF5 v0.16.16\u001B[39m\n",
      " \u001B[90m [615f187c] \u001B[39m\u001B[92m+ IfElse v0.1.1\u001B[39m\n",
      " \u001B[90m [3587e190] \u001B[39m\u001B[92m+ InverseFunctions v0.1.12\u001B[39m\n",
      " \u001B[90m [92d709cd] \u001B[39m\u001B[92m+ IrrationalConstants v0.2.2\u001B[39m\n",
      " \u001B[90m [4076af6c] \u001B[39m\u001B[92m+ JuMP v1.15.0\u001B[39m\n",
      " \u001B[90m [2ab3a3ac] \u001B[39m\u001B[92m+ LogExpFunctions v0.3.26\u001B[39m\n",
      " \u001B[90m [23992714] \u001B[39m\u001B[92m+ MAT v0.10.5\u001B[39m\n",
      " \u001B[90m [3da0fdf6] \u001B[39m\u001B[92m+ MPIPreferences v0.1.9\u001B[39m\n",
      " \u001B[90m [1914dd2f] \u001B[39m\u001B[92m+ MacroTools v0.5.11\u001B[39m\n",
      " \u001B[90m [b8f27783] \u001B[39m\u001B[92m+ MathOptInterface v1.20.0\u001B[39m\n",
      " \u001B[90m [d8a4904e] \u001B[39m\u001B[92m+ MutableArithmetics v1.3.2\u001B[39m\n",
      " \u001B[90m [77ba4419] \u001B[39m\u001B[92m+ NaNMath v1.0.2\u001B[39m\n",
      " \u001B[90m [bac558e1] \u001B[39m\u001B[92m+ OrderedCollections v1.6.2\u001B[39m\n",
      "\u001B[33m⌅\u001B[39m\u001B[90m [3bbf5609] \u001B[39m\u001B[92m+ PikaParser v0.5.2\u001B[39m\n",
      " \u001B[90m [ae029012] \u001B[39m\u001B[92m+ Requires v1.3.0\u001B[39m\n",
      "\u001B[33m⌅\u001B[39m\u001B[90m [e5567a89] \u001B[39m\u001B[92m+ SBML v1.4.4\u001B[39m\n",
      " \u001B[90m [66db9d55] \u001B[39m\u001B[92m+ SnoopPrecompile v1.0.3\u001B[39m\n",
      " \u001B[90m [276daf66] \u001B[39m\u001B[92m+ SpecialFunctions v2.3.1\u001B[39m\n",
      " \u001B[90m [860ef19b] \u001B[39m\u001B[92m+ StableRNGs v1.0.0\u001B[39m\n",
      " \u001B[90m [90137ffa] \u001B[39m\u001B[92m+ StaticArrays v1.6.3\u001B[39m\n",
      " \u001B[90m [1e83bf80] \u001B[39m\u001B[92m+ StaticArraysCore v1.4.2\u001B[39m\n",
      " \u001B[90m [3bb67fe8] \u001B[39m\u001B[92m+ TranscodingStreams v0.9.13\u001B[39m\n",
      " \u001B[90m [1986cc42] \u001B[39m\u001B[92m+ Unitful v1.17.0\u001B[39m\n",
      " \u001B[90m [6e34b625] \u001B[39m\u001B[92m+ Bzip2_jll v1.0.8+0\u001B[39m\n",
      " \u001B[90m [0234f1f7] \u001B[39m\u001B[92m+ HDF5_jll v1.14.2+1\u001B[39m\n",
      " \u001B[90m [1d63c593] \u001B[39m\u001B[92m+ LLVMOpenMP_jll v15.0.4+0\u001B[39m\n",
      " \u001B[90m [94ce4f54] \u001B[39m\u001B[92m+ Libiconv_jll v1.17.0+0\u001B[39m\n",
      " \u001B[90m [7cb0a576] \u001B[39m\u001B[92m+ MPICH_jll v4.1.2+0\u001B[39m\n",
      " \u001B[90m [f1f71cc9] \u001B[39m\u001B[92m+ MPItrampoline_jll v5.3.1+0\u001B[39m\n",
      " \u001B[90m [9237b28f] \u001B[39m\u001B[92m+ MicrosoftMPI_jll v10.1.3+4\u001B[39m\n",
      " \u001B[90m [fe0851c0] \u001B[39m\u001B[92m+ OpenMPI_jll v4.1.5+0\u001B[39m\n",
      " \u001B[90m [458c3c95] \u001B[39m\u001B[92m+ OpenSSL_jll v3.0.10+0\u001B[39m\n",
      " \u001B[90m [efe28fd5] \u001B[39m\u001B[92m+ OpenSpecFun_jll v0.5.5+0\u001B[39m\n",
      " \u001B[90m [bb12108a] \u001B[39m\u001B[92m+ SBML_jll v5.20.1+0\u001B[39m\n",
      " \u001B[90m [02c8fc9c] \u001B[39m\u001B[92m+ XML2_jll v2.10.4+0\u001B[39m\n",
      " \u001B[90m [477f73a3] \u001B[39m\u001B[92m+ libaec_jll v1.0.6+1\u001B[39m\n",
      " \u001B[90m [8ba89e20] \u001B[39m\u001B[92m+ Distributed\u001B[39m\n",
      " \u001B[90m [4af54fe1] \u001B[39m\u001B[92m+ LazyArtifacts\u001B[39m\n",
      " \u001B[90m [05823500] \u001B[39m\u001B[92m+ OpenLibm_jll v0.8.1+0\u001B[39m\n",
      "\u001B[36m\u001B[1m        Info\u001B[22m\u001B[39m Packages marked with \u001B[33m⌅\u001B[39m have new versions available but compatibility constraints restrict them from upgrading. To see why use `status --outdated -m`\n",
      "\u001B[32m\u001B[1m    Building\u001B[22m\u001B[39m HDF5 → `~/.julia/scratchspaces/44cfe95a-1eb2-52ea-b672-e2afdf69b78f/114e20044677badbc631ee6fdc80a67920561a29/build.log`\n",
      "\u001B[32m\u001B[1mPrecompiling\u001B[22m\u001B[39m project...\n",
      "\u001B[32m  ✓ \u001B[39m\u001B[90mRequires\u001B[39m\n",
      "\u001B[32m  ✓ \u001B[39m\u001B[90mOrderedCollections\u001B[39m\n",
      "\u001B[32m  ✓ \u001B[39m\u001B[90mCompat\u001B[39m\n",
      "\u001B[32m  ✓ \u001B[39m\u001B[90mStableRNGs\u001B[39m\n",
      "\u001B[32m  ✓ \u001B[39m\u001B[90mOpenLibm_jll\u001B[39m\n",
      "\u001B[32m  ✓ \u001B[39m\u001B[90mInverseFunctions\u001B[39m\n",
      "\u001B[32m  ✓ \u001B[39m\u001B[90mBufferedStreams\u001B[39m\n",
      "\u001B[32m  ✓ \u001B[39m\u001B[90mDocStringExtensions\u001B[39m\n",
      "\u001B[32m  ✓ \u001B[39m\u001B[90mIfElse\u001B[39m\n",
      "\u001B[32m  ✓ \u001B[39m\u001B[90mConstructionBase\u001B[39m\n",
      "\u001B[32m  ✓ \u001B[39m\u001B[90mIrrationalConstants\u001B[39m\n",
      "\u001B[32m  ✓ \u001B[39m\u001B[90mDistributedData\u001B[39m\n",
      "\u001B[32m  ✓ \u001B[39m\u001B[90mStaticArraysCore\u001B[39m\n",
      "\u001B[32m  ✓ \u001B[39m\u001B[90mTranscodingStreams\u001B[39m\n",
      "\u001B[32m  ✓ \u001B[39m\u001B[90mSnoopPrecompile\u001B[39m\n",
      "\u001B[32m  ✓ \u001B[39m\u001B[90mMacroTools\u001B[39m\n",
      "\u001B[32m  ✓ \u001B[39m\u001B[90mMPIPreferences\u001B[39m\n",
      "\u001B[32m  ✓ \u001B[39m\u001B[90mOpenSSL_jll\u001B[39m\n",
      "\u001B[32m  ✓ \u001B[39m\u001B[90mMicrosoftMPI_jll\u001B[39m\n",
      "\u001B[32m  ✓ \u001B[39m\u001B[90mLibiconv_jll\u001B[39m\n",
      "\u001B[32m  ✓ \u001B[39m\u001B[90mLLVMOpenMP_jll\u001B[39m\n",
      "\u001B[32m  ✓ \u001B[39m\u001B[90mBzip2_jll\u001B[39m\n",
      "\u001B[32m  ✓ \u001B[39m\u001B[90mOpenSpecFun_jll\u001B[39m\n",
      "\u001B[32m  ✓ \u001B[39m\u001B[90mlibaec_jll\u001B[39m\n",
      "\u001B[32m  ✓ \u001B[39m\u001B[90mMutableArithmetics\u001B[39m\n",
      "\u001B[32m  ✓ \u001B[39m\u001B[90mChainRulesCore\u001B[39m\n",
      "\u001B[32m  ✓ \u001B[39m\u001B[90mNaNMath\u001B[39m\n",
      "\u001B[32m  ✓ \u001B[39m\u001B[90mChangesOfVariables\u001B[39m\n",
      "\u001B[32m  ✓ \u001B[39m\u001B[90mDataStructures\u001B[39m\n",
      "\u001B[32m  ✓ \u001B[39m\u001B[90mPikaParser\u001B[39m\n",
      "\u001B[32m  ✓ \u001B[39m\u001B[90mDiffResults\u001B[39m\n",
      "\u001B[32m  ✓ \u001B[39m\u001B[90mCodecZlib\u001B[39m\n",
      "\u001B[32m  ✓ \u001B[39m\u001B[90mCommonSubexpressions\u001B[39m\n",
      "\u001B[32m  ✓ \u001B[39m\u001B[90mMPItrampoline_jll\u001B[39m\n",
      "\u001B[32m  ✓ \u001B[39m\u001B[90mOpenMPI_jll\u001B[39m\n",
      "\u001B[32m  ✓ \u001B[39m\u001B[90mMPICH_jll\u001B[39m\n",
      "\u001B[32m  ✓ \u001B[39m\u001B[90mXML2_jll\u001B[39m\n",
      "\u001B[32m  ✓ \u001B[39m\u001B[90mCodecBzip2\u001B[39m\n",
      "\u001B[32m  ✓ \u001B[39m\u001B[90mLogExpFunctions\u001B[39m\n",
      "\u001B[32m  ✓ \u001B[39m\u001B[90mHDF5_jll\u001B[39m\n",
      "\u001B[32m  ✓ \u001B[39m\u001B[90mSBML_jll\u001B[39m\n",
      "\u001B[32m  ✓ \u001B[39m\u001B[90mStaticArrays\u001B[39m\n",
      "\u001B[32m  ✓ \u001B[39m\u001B[90mSpecialFunctions\u001B[39m\n",
      "\u001B[32m  ✓ \u001B[39m\u001B[90mDiffRules\u001B[39m\n",
      "\u001B[32m  ✓ \u001B[39m\u001B[90mHDF5\u001B[39m\n",
      "\u001B[32m  ✓ \u001B[39m\u001B[90mMAT\u001B[39m\n",
      "\u001B[32m  ✓ \u001B[39m\u001B[90mForwardDiff\u001B[39m\n",
      "\u001B[32m  ✓ \u001B[39m\u001B[90mUnitful\u001B[39m\n",
      "\u001B[32m  ✓ \u001B[39m\u001B[90mSBML\u001B[39m\n",
      "\u001B[32m  ✓ \u001B[39m\u001B[90mMathOptInterface\u001B[39m\n",
      "\u001B[32m  ✓ \u001B[39m\u001B[90mJuMP\u001B[39m\n",
      "\u001B[32m  ✓ \u001B[39mCOBREXA\n",
      "  52 dependencies successfully precompiled in 197 seconds. 20 already precompiled.\n"
     ]
    }
   ]
  },
  {
   "cell_type": "code",
   "source": [
    "] add JuMP"
   ],
   "metadata": {
    "colab": {
     "base_uri": "https://localhost:8080/"
    },
    "collapsed": true,
    "id": "O3A-E7kq0Gcw",
    "outputId": "01c502e8-fb6f-43df-fdd9-d0a5848d185d",
    "pycharm": {
     "name": "#%%\n"
    }
   },
   "execution_count": null,
   "outputs": [
    {
     "output_type": "stream",
     "name": "stderr",
     "text": [
      "\u001B[32m\u001B[1m   Resolving\u001B[22m\u001B[39m package versions...\n",
      "\u001B[32m\u001B[1m    Updating\u001B[22m\u001B[39m `~/.julia/environments/v1.8/Project.toml`\n",
      " \u001B[90m [4076af6c] \u001B[39m\u001B[92m+ JuMP v1.15.0\u001B[39m\n",
      "\u001B[32m\u001B[1m  No Changes\u001B[22m\u001B[39m to `~/.julia/environments/v1.8/Manifest.toml`\n"
     ]
    }
   ]
  },
  {
   "cell_type": "code",
   "source": [
    "] add GLPK"
   ],
   "metadata": {
    "colab": {
     "base_uri": "https://localhost:8080/"
    },
    "collapsed": true,
    "id": "ghYmRW7B0P00",
    "outputId": "0dc5240a-76a7-458a-af85-d759f76f94d0",
    "pycharm": {
     "name": "#%%\n"
    }
   },
   "execution_count": null,
   "outputs": [
    {
     "output_type": "stream",
     "name": "stderr",
     "text": [
      "\u001B[32m\u001B[1m   Resolving\u001B[22m\u001B[39m package versions...\n",
      "\u001B[32m\u001B[1m   Installed\u001B[22m\u001B[39m GLPK_jll ─ v5.0.1+0\n",
      "\u001B[32m\u001B[1m   Installed\u001B[22m\u001B[39m GLPK ───── v1.1.2\n",
      "\u001B[32m\u001B[1m    Updating\u001B[22m\u001B[39m `~/.julia/environments/v1.8/Project.toml`\n",
      " \u001B[90m [60bf3e95] \u001B[39m\u001B[92m+ GLPK v1.1.2\u001B[39m\n",
      "\u001B[32m\u001B[1m    Updating\u001B[22m\u001B[39m `~/.julia/environments/v1.8/Manifest.toml`\n",
      " \u001B[90m [60bf3e95] \u001B[39m\u001B[92m+ GLPK v1.1.2\u001B[39m\n",
      " \u001B[90m [e8aa6df9] \u001B[39m\u001B[92m+ GLPK_jll v5.0.1+0\u001B[39m\n",
      " \u001B[90m [781609d7] \u001B[39m\u001B[92m+ GMP_jll v6.2.1+2\u001B[39m\n",
      "\u001B[32m\u001B[1mPrecompiling\u001B[22m\u001B[39m project...\n",
      "\u001B[32m  ✓ \u001B[39m\u001B[90mGMP_jll\u001B[39m\n",
      "\u001B[32m  ✓ \u001B[39m\u001B[90mGLPK_jll\u001B[39m\n",
      "\u001B[32m  ✓ \u001B[39mGLPK\n",
      "  3 dependencies successfully precompiled in 11 seconds. 72 already precompiled.\n"
     ]
    }
   ]
  },
  {
   "cell_type": "markdown",
   "source": [
    "<font face=\"XB Zar\" size=4><div dir=rtl id=\"1\">\n",
    "<font color=\"red\" size=5>**مقدمه**</font>"
   ],
   "metadata": {
    "id": "6VWCrBE9u94Y",
    "pycharm": {
     "name": "#%% md\n"
    }
   }
  },
  {
   "cell_type": "markdown",
   "source": [
    "<font face=\"XB Zar\" size=4><div dir=rtl>\n",
    "در این تمرین قصد داریم با یکی از کاربردهای CSP آشنا شویم. فرض کنید شما میخواهید دارویی را تولید کنید که سنتز آن از صفر یا بسیار پرهزینه است یا به حدی پیچیده است که در عمل ممکن نیست اما یک نوع باکتری در طبیعت وجود دارد که توانایی سنتز دارو را به طور طبیعی دارد. شما میتوانید با استخراج واکنش های انجام شده در باکتری و مهندسی آن ها موجب شوید باکتری داروی مطلوب شما را  به میزان زیادی تولید کند. برای مثال انسولین که به طور روزانه توسط بیماران مبتلا به دیابت مصرف میشود با استفاده از باکتری های مهندسی شده تولید میشود.\n",
    " <font face=\"XB Zar\" size=4><div dir=rtl>\n",
    " در مراحل مختلفی از این روند مانند پیش پردازش داده های واکنش ها، میتوان از CSP بهره برد که در این تمرین قصد داریم با آن آشنا شویم."
   ],
   "metadata": {
    "id": "0KUxdWNKvavt",
    "pycharm": {
     "name": "#%% md\n"
    }
   }
  },
  {
   "cell_type": "markdown",
   "source": [
    "<font face=\"XB Zar\" size=4><div dir=rtl id=\"1\">\n",
    "<font color=\"red\" size=5>**معرفی المان های مساله**</font>"
   ],
   "metadata": {
    "id": "SZ7a6CPLv6Iu",
    "pycharm": {
     "name": "#%% md\n"
    }
   }
  },
  {
   "cell_type": "markdown",
   "source": [
    "<font face=\"XB Zar\" size=4><div dir=rtl>\n",
    "همانطور که گفته شده ما یک باکتری داریم که واکنشهای درون باکتری در آزمایشگاه استخراج شده و داده های آن در اختیار ما قرار گرفته است. این داده ها شامل موارد زیر هستند:\n",
    "<br>\n",
    "<br>\n",
    "n: تعداد واکنش ها\n",
    "<br>\n",
    "m: مجموع تعداد ماده های متمایز در تمام واکنش ها\n",
    "<br>\n",
    "S: یک ماتریس m*n که سطر i,j از آن بیان میدارد در واکنش j ام چند واحد از ماده ی i مصرف یا تولید میشود. مقدار منفی بیانگر مصرف و مقدار مثبت بیانگر تولید است. (درواقع این ماتریس ضرایب استکیومتری واکنش هاست، فراورده ها مثبت و واکنش دهنده ها منفی)\n",
    "<br>\n",
    "ub: یک ماتریس به طول n که upper bound یا کران بالای rate واکنش ها را مشخص میکند\n",
    "<br>\n",
    "lb: یک ماتریس به طول n که lower bound یا کران پایین rate واکنش ها را مشخص میکند\n",
    "<br>\n",
    "Reactions: ماتریس به طول n، نام واکنش ها\n",
    "<br>\n",
    "Metabolites: ماتریس به طول m، نام ماده ها (متابولیت ها)\n"
   ],
   "metadata": {
    "id": "iAA67KaYwF6X",
    "pycharm": {
     "name": "#%% md\n"
    }
   }
  },
  {
   "cell_type": "code",
   "source": [
    "using COBREXA\n",
    "using JuMP\n",
    "using GLPK"
   ],
   "metadata": {
    "id": "8OZsXO9SdSut",
    "colab": {
     "base_uri": "https://localhost:8080/"
    },
    "outputId": "8bcf3528-77be-48a0-a969-817eb5c51db9",
    "pycharm": {
     "name": "#%%\n"
    }
   },
   "execution_count": null,
   "outputs": [
    {
     "output_type": "stream",
     "name": "stderr",
     "text": [
      "WARNING: using JuMP.name in module Main conflicts with an existing identifier.\n"
     ]
    }
   ]
  },
  {
   "cell_type": "code",
   "source": [
    "struct models\n",
    "           S\n",
    "           Metabolites\n",
    "           Reactions\n",
    "           Genes\n",
    "           m\n",
    "           n\n",
    "           lb\n",
    "           ub\n",
    "       end"
   ],
   "metadata": {
    "id": "cauYky-_gMdp",
    "pycharm": {
     "name": "#%%\n"
    }
   },
   "execution_count": null,
   "outputs": []
  },
  {
   "cell_type": "markdown",
   "source": [
    "<font face=\"XB Zar\" size=4><div dir=rtl>\n",
    "<font color=\"blue\">\n",
    "**سوال:**\n",
    "<br>\n",
    "<font color=\"black\">\n",
    "چگونه میتوان از روی مقادیر lb و ub تشخیص داد واکنش ها برگشت پذیر هستند یا نه؟\n"
   ],
   "metadata": {
    "id": "sFD7nfjIwmAm",
    "pycharm": {
     "name": "#%% md\n"
    }
   }
  },
  {
   "cell_type": "markdown",
   "source": [
    "<font face=\"XB Zar\" size=4><div dir=rtl id=\"1\">\n",
    "<font color=\"red\" size=5>**مثال**</font>"
   ],
   "metadata": {
    "id": "YMUDoYG-xJAf",
    "pycharm": {
     "name": "#%% md\n"
    }
   }
  },
  {
   "cell_type": "markdown",
   "source": [
    "<font face=\"XB Zar\" size=4><div dir=rtl>\n",
    "ساده ترین حالت CSP قابل حل با این داده ها این هست که با توجه\n",
    "به محدودیت های دنیای واقعی، یک حالت از rate های ممکن برای واکنش را به دست آوریم:\n",
    "ماتریس V را تعریف میکنیم:\n",
    "<br>\n",
    "  یک ماتریس به طول n است که درایه ی iام نظیر rate واکنش iام است.\n",
    "  <div dir=ltr>\n",
    "<br>\n",
    "Find $V$\n",
    "<br>\n",
    "Subject to :\n",
    "<br>\n",
    "$Lb[j]<v[j]<ub[j]$\n",
    "<br>\n",
    "$SV=0$\n"
   ],
   "metadata": {
    "id": "PRdGtInIxJFe",
    "pycharm": {
     "name": "#%% md\n"
    }
   }
  },
  {
   "cell_type": "markdown",
   "source": [
    "<font face=\"XB Zar\" size=4><div dir=rtl>\n",
    "<font color=\"blue\">\n",
    "**سوال:**\n",
    "<br>\n",
    "<font color=\"black\">\n",
    "شرط SV=0 بیانگر چیست؟"
   ],
   "metadata": {
    "id": "354U8hy9xJLe",
    "pycharm": {
     "name": "#%% md\n"
    }
   }
  },
  {
   "cell_type": "markdown",
   "source": [
    "<font face=\"XB Zar\" size=4><div dir=rtl id=\"1\">\n",
    "<font color=\"red\" size=5>**پیش پردازش داده ها**</font>\n",
    "<br>\n",
    "<font color=\"red\">\n",
    "یافتن و حذف واکنش های بلاک شده"
   ],
   "metadata": {
    "id": "ZM12RRvDxJNr",
    "pycharm": {
     "name": "#%% md\n"
    }
   }
  },
  {
   "cell_type": "markdown",
   "source": [
    "<font face=\"XB Zar\" size=4><div dir=rtl>\n",
    "همانطور که میدانیم داده های دریافت شده از آزمایشگاه همیشه داده های تمیزی نیست و نیازبه پیش پردازش دارد. یک نمونه از مشکلات موجود در این داده ها وجود واکنش های \"بلاک شده\" هستند. ممکن است آزمایشگاه واکنش هایی را گزارش کرده باشد که تحت هیچ شرایطی امکان انجام آن وجود نداشته باشد و در هر حالت ممکنی ازمقداردهی rate ها، rate این واکنش همیشه صفر باشد. یافتن و حذف این واکنش ها موجب میشود فضای حالت ما کوچکتر شود و حل مسائل بعدی ساده تر شود."
   ],
   "metadata": {
    "id": "SRhIL44KxJP6",
    "pycharm": {
     "name": "#%% md\n"
    }
   }
  },
  {
   "cell_type": "markdown",
   "source": [
    "<font face=\"XB Zar\" size=4><div dir=rtl id=\"1\">\n",
    "<font color=\"red\">\n",
    "تعریف دقیق واکنش های بلاک شده:\n",
    "<br>\n",
    "<font color=\"black\">\n",
    "واکنشی که در هیچ حالتی از فضای حالت تمام rateهای ممکن نتواند rate غیرصفر داشته باشد، در هیچ شرایطی اجرا نمیشود و بلاک شده است. توجه کنید برای واکنش های دوطرفه این شرط باید از هر دوسمت (رفت و برگشت) برقرار باشد تا واکنش بلاک شده تلقی شود.\n"
   ],
   "metadata": {
    "id": "v7lFYA1yxJSR",
    "pycharm": {
     "name": "#%% md\n"
    }
   }
  },
  {
   "cell_type": "markdown",
   "source": [
    "<font face=\"XB Zar\" size=4><div dir=rtl id=\"1\">\n",
    "<font color=\"red\" size=5>**حل مساله ی یافتن واکنش های بلاک شده:**</font>\n",
    "<br>\n",
    "<font color=\"black\">\n",
    "در ادامه با استفاده از CSP قصد داریم واکنش های بلاک شده را پیدا کنیم. توضیحی در مورد هرکدام از توابع مطرح شده و ورودی و خروجی آنها در ادامه آمده که باید این توابع را تکمیل کنید. میتوانید ورودی و خروجی توابع را با خواست خود تغییر دهید.\n"
   ],
   "metadata": {
    "id": "gH94g63bxJU_",
    "pycharm": {
     "name": "#%% md\n"
    }
   }
  },
  {
   "cell_type": "markdown",
   "source": [
    "<font face=\"XB Zar\" size=4><div dir=rtl id=\"1\">\n",
    "<font color=\"blue\">\n",
    "تابع loadmyModel\n",
    "<br>\n",
    "<font color=\"black\">\n",
    "این تابع مدل واکنش را دانلود میکند و در فرمت یک استراکت برمیگرداند، نیازی به تغییر دادن این تابع نیست."
   ],
   "metadata": {
    "id": "PqAvOeg9-Z3I",
    "pycharm": {
     "name": "#%% md\n"
    }
   }
  },
  {
   "cell_type": "code",
   "source": [
    "function loadmyModel(name)\n",
    "  !isfile(name) &&\n",
    "    download(string(\"http://bigg.ucsd.edu/static/models/\",name), name);\n",
    "  model = load_model(StandardModel, name)\n",
    "  m=n_metabolites(model)\n",
    "  n=n_reactions(model)\n",
    "  myModel=models(stoichiometry(model),metabolites(model),reactions(model),genes(model),m,n,bounds(model)[1],bounds(model)[2])\n",
    "  return myModel\n",
    "end"
   ],
   "metadata": {
    "colab": {
     "base_uri": "https://localhost:8080/"
    },
    "id": "1H0tCueEf9Cr",
    "outputId": "c426ecaa-f46e-41cf-9a2d-fab223ba85ad",
    "pycharm": {
     "name": "#%%\n"
    }
   },
   "execution_count": null,
   "outputs": [
    {
     "output_type": "execute_result",
     "data": {
      "text/plain": [
       "loadmyModel (generic function with 1 method)"
      ]
     },
     "metadata": {},
     "execution_count": 19
    }
   ]
  },
  {
   "cell_type": "markdown",
   "source": [
    "<font face=\"XB Zar\" size=4><div dir=rtl id=\"1\">\n",
    "<font color=\"blue\">\n",
    "تابع if_rev\n",
    "<br>\n",
    "<font color=\"black\">\n",
    "این تابع نام (یا یک ویژگی) از واکنش را دریافت میکند و درخروجی مشخص که واکنش برگشت پذیر هست یا نه"
   ],
   "metadata": {
    "id": "vgiSjfD--rdJ",
    "pycharm": {
     "name": "#%% md\n"
    }
   }
  },
  {
   "cell_type": "code",
   "source": [
    "function if_rev(reaction)\n",
    "\n",
    "end"
   ],
   "metadata": {
    "colab": {
     "base_uri": "https://localhost:8080/"
    },
    "id": "BNwmn8yR1guz",
    "outputId": "a23726e6-e0a2-4935-e0bd-852467c863f2",
    "pycharm": {
     "name": "#%%\n"
    }
   },
   "execution_count": null,
   "outputs": [
    {
     "output_type": "execute_result",
     "data": {
      "text/plain": [
       "if_rev (generic function with 1 method)"
      ]
     },
     "metadata": {},
     "execution_count": 8
    }
   ]
  },
  {
   "cell_type": "markdown",
   "source": [
    "<font face=\"XB Zar\" size=4><div dir=rtl id=\"1\">\n",
    "<font color=\"blue\">\n",
    "تابع homogenize\n",
    "<br>\n",
    "<font color=\"black\">\n",
    "این تابع مدل را دریافت کرده و آن را همگن میکند یعنی ub را برای تمام واکنش ها +M و lb را برای واکنش های برگشت پذیر -M و برای واکنش های برگشت ناپذیر 0 قرار میدهد."
   ],
   "metadata": {
    "id": "8f1Bf_5M-uYv",
    "pycharm": {
     "name": "#%% md\n"
    }
   }
  },
  {
   "cell_type": "code",
   "source": [
    "function homogenize(model,M)\n",
    "\n",
    "end\n"
   ],
   "metadata": {
    "colab": {
     "base_uri": "https://localhost:8080/"
    },
    "id": "g4gFDWgb1iwt",
    "outputId": "7b455fd6-feac-469a-e4b9-cf05132c49ff",
    "pycharm": {
     "name": "#%%\n"
    }
   },
   "execution_count": null,
   "outputs": [
    {
     "output_type": "execute_result",
     "data": {
      "text/plain": [
       "homogenize (generic function with 1 method)"
      ]
     },
     "metadata": {},
     "execution_count": 23
    }
   ]
  },
  {
   "cell_type": "markdown",
   "source": [
    "<font face=\"XB Zar\" size=4><div dir=rtl id=\"1\">\n",
    "<font color=\"blue\">\n",
    "تابع irreversable_solve\n",
    "<br>\n",
    "<font color=\"black\">\n",
    "این تابع برای هر واکنش برگشت ناپذیر با حل یک CSP، مشخص میکند آن واکنش بلاک شده هست یا نه و در خروجی واکنش های برگشت ناپذیر بلاک شده را برمیگرداند"
   ],
   "metadata": {
    "id": "HNK7oYZB-zgU",
    "pycharm": {
     "name": "#%% md\n"
    }
   }
  },
  {
   "cell_type": "code",
   "source": [
    "function irreversable_solve(myModel)\n",
    "\n",
    "end"
   ],
   "metadata": {
    "colab": {
     "base_uri": "https://localhost:8080/"
    },
    "id": "I16ZDE4R1kpG",
    "outputId": "2103370b-af58-4a53-acb2-f3d0141b5eff",
    "pycharm": {
     "name": "#%%\n"
    }
   },
   "execution_count": null,
   "outputs": [
    {
     "output_type": "execute_result",
     "data": {
      "text/plain": [
       "irreversable_solve (generic function with 1 method)"
      ]
     },
     "metadata": {},
     "execution_count": 10
    }
   ]
  },
  {
   "cell_type": "markdown",
   "source": [
    "<font face=\"XB Zar\" size=4><div dir=rtl id=\"1\">\n",
    "<font color=\"blue\">\n",
    "تابع reversable_solve\n",
    "<br>\n",
    "<font color=\"black\">\n",
    "این تابع برای هر واکنش برگشت پذیر با حل دو CSP، مشخص میکند آن واکنش بلاک شده هست یا نه و در خروجی واکنش های برگشت پذیر بلاک شده را برمیگرداند"
   ],
   "metadata": {
    "id": "gf5vJU3D-2nL",
    "pycharm": {
     "name": "#%% md\n"
    }
   }
  },
  {
   "cell_type": "code",
   "source": [
    "function reversable_solve(myModel)\n",
    "\n",
    "end"
   ],
   "metadata": {
    "colab": {
     "base_uri": "https://localhost:8080/"
    },
    "id": "82Y9V6sp1pLI",
    "outputId": "1dc709cb-b3f3-4939-c794-b71b498d4f25",
    "pycharm": {
     "name": "#%%\n"
    }
   },
   "execution_count": null,
   "outputs": [
    {
     "output_type": "execute_result",
     "data": {
      "text/plain": [
       "reversable_solve (generic function with 1 method)"
      ]
     },
     "metadata": {},
     "execution_count": 11
    }
   ]
  },
  {
   "cell_type": "code",
   "source": [
    "name=\"e_coli_core.xml\"\n",
    "print(\">\",name,\"\\n\")\n",
    "myModel=loadmyModel(name)\n",
    "M=1000000"
   ],
   "metadata": {
    "colab": {
     "base_uri": "https://localhost:8080/"
    },
    "collapsed": true,
    "id": "VdX68OUY1sax",
    "outputId": "b7bf5b90-12f8-43fb-f5ef-1e3d5a295299",
    "pycharm": {
     "name": "#%%\n"
    }
   },
   "execution_count": null,
   "outputs": [
    {
     "output_type": "stream",
     "name": "stdout",
     "text": [
      ">e_coli_core.xml\n"
     ]
    },
    {
     "output_type": "execute_result",
     "data": {
      "text/plain": [
       "1.0e-13"
      ]
     },
     "metadata": {},
     "execution_count": 20
    }
   ]
  },
  {
   "cell_type": "code",
   "source": [
    "#if_rev(\"a reaction name\")"
   ],
   "metadata": {
    "id": "JWnj3kpT9XtW",
    "pycharm": {
     "name": "#%%\n"
    }
   },
   "execution_count": null,
   "outputs": []
  },
  {
   "cell_type": "code",
   "source": [
    "myModel=homogenize(myModel,M)\n",
    "print(\"#irreversable blocked reactios:\\n\")\n",
    "irreversable_solve(myModel)\n",
    "print(\"#reversable blocked reactios:\\n\")\n",
    "reversable_solve(myModel)"
   ],
   "metadata": {
    "id": "6kNe6INg2Rcn",
    "colab": {
     "base_uri": "https://localhost:8080/"
    },
    "outputId": "15285294-efa2-49d5-bfe3-3d6065f16aec",
    "pycharm": {
     "name": "#%%\n"
    }
   },
   "execution_count": null,
   "outputs": [
    {
     "output_type": "stream",
     "name": "stdout",
     "text": [
      "#irreversable blocked reactios:\n",
      "#reversable blocked reactios:\n"
     ]
    }
   ]
  },
  {
   "cell_type": "markdown",
   "metadata": {
    "id": "2UMidUQB03vJ",
    "pycharm": {
     "name": "#%% md\n"
    }
   },
   "source": [
    "<img src=\"https://raw.githubusercontent.com/JuliaLang/julia-logo-graphics/master/images/julia-logo-mask.png\" height=\"100\" />"
   ]
  },
  {
   "cell_type": "markdown",
   "metadata": {
    "id": "8RC1QNNqk6h1",
    "pycharm": {
     "name": "#%% md\n"
    }
   },
   "source": [
    "# Need Help?\n",
    "\n",
    "* Learning: https://julialang.org/learning/\n",
    "* Documentation: https://docs.julialang.org/\n",
    "* Questions & Discussions:\n",
    "  * https://discourse.julialang.org/\n",
    "  * http://julialang.slack.com/\n",
    "  * https://stackoverflow.com/questions/tagged/julia\n",
    "\n",
    "If you ever ask for help or file an issue about Julia, you should generally provide the output of `versioninfo()`."
   ]
  }
 ]
}