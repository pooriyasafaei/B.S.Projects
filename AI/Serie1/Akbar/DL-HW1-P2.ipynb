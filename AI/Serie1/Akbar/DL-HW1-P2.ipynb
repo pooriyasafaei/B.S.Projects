{
 "cells": [
  {
   "cell_type": "markdown",
   "metadata": {
    "id": "baCy7SDmHKaE",
    "pycharm": {
     "name": "#%% md\n"
    }
   },
   "source": [
    "#introduction to machine learning\n",
    "##pca analysis on MNIST dataset"
   ]
  },
  {
   "cell_type": "markdown",
   "metadata": {
    "id": "4ojmApR3Hcda",
    "pycharm": {
     "name": "#%% md\n"
    }
   },
   "source": [
    "داخل درس با آنالیز مولفه های اصلی آشنا شده اید ، در این تمرین قصد داریم از ابتدا این روش را روی دیتاست داده شده عملی کنیم و نتیایج این روش را با همدیگر مشاهده کنیم."
   ]
  },
  {
   "cell_type": "code",
   "execution_count": null,
   "metadata": {
    "id": "R-fCJwHlI077",
    "pycharm": {
     "name": "#%%\n"
    }
   },
   "outputs": [],
   "source": [
    "first_name= \"\"\n",
    "last_name= \"\"\n",
    "student_number= \"\""
   ]
  },
  {
   "cell_type": "markdown",
   "metadata": {
    "id": "jSKSHp_9Ip3W",
    "pycharm": {
     "name": "#%% md\n"
    }
   },
   "source": [
    "در بخش زیر تمامی کتابخانه هایی که لازم دارید را ایمپورت کنید."
   ]
  },
  {
   "cell_type": "code",
   "execution_count": null,
   "metadata": {
    "id": "a4Avet2IHHpS",
    "pycharm": {
     "name": "#%%\n"
    }
   },
   "outputs": [],
   "source": [
    "import numpy as np\n",
    "import pandas as pd"
   ]
  },
  {
   "cell_type": "markdown",
   "metadata": {
    "id": "yAMlWhkXJC37",
    "pycharm": {
     "name": "#%% md\n"
    }
   },
   "source": [
    "### داده شده را لود کنید MNIST در این قسمت دیتا ست  \n",
    "\n",
    "پیش از این که مولفه های اصلی داده ها را استخراج کنید آن را نرمالایز کنید.\n",
    "توجه کنید که سمپل های لود شده به صورت 28*28  میباشند و باید آن را به صورت بردار 784 تایی تبدیل کنید"
   ]
  },
  {
   "cell_type": "code",
   "execution_count": null,
   "metadata": {
    "id": "aoqQXAI4eB1M",
    "pycharm": {
     "name": "#%%\n"
    }
   },
   "outputs": [],
   "source": [
    "#load the data set and fill nan value with 0\n",
    "# TODO (load dataset)\n",
    "from keras.datasets import mnist\n",
    "(x_train, y_train), (x_test, y_test) = mnist.load_data()"
   ]
  },
  {
   "cell_type": "code",
   "execution_count": null,
   "metadata": {
    "id": "uMtxONwwr-8R",
    "pycharm": {
     "name": "#%%\n"
    }
   },
   "outputs": [],
   "source": [
    "# here show 50 first of this images\n",
    "\n",
    "def show_images(num_images,X):\n",
    "    # TODO (implement show images function)\n",
    "    #inputs dataset and number of images wants to show\n",
    "    #output plot images\n",
    "show_images(50,X)"
   ]
  },
  {
   "cell_type": "code",
   "execution_count": null,
   "metadata": {
    "id": "1iha4NJ524Oa",
    "pycharm": {
     "name": "#%%\n"
    }
   },
   "outputs": [],
   "source": [
    "#TODO scale the data set to [0 1]\n",
    "#divide data to maximum value .\n"
   ]
  },
  {
   "cell_type": "markdown",
   "metadata": {
    "id": "SkzOWJyBKMtF",
    "pycharm": {
     "name": "#%% md\n"
    }
   },
   "source": [
    "در این قسمت ابتدا تابع کواریانس داده را بدست آورید و سپس مقادیر ویژه و بردار ویژه های آن را استخراج کنید."
   ]
  },
  {
   "cell_type": "code",
   "execution_count": null,
   "metadata": {
    "id": "GKuNSqD5OpNB",
    "pycharm": {
     "name": "#%%\n"
    }
   },
   "outputs": [],
   "source": [
    "#TODO calculate the covariance matrix and the eigenvalue and eigenvectors of the covariance matrix."
   ]
  },
  {
   "cell_type": "markdown",
   "metadata": {
    "id": "Y3t5zzgzPCPy",
    "pycharm": {
     "name": "#%% md\n"
    }
   },
   "source": [
    "در بخش زیر میخواهیم تعدادی از مولفه های اصلی را استخراج کنیم که بخش قابل قبولی از واریانس داده ها را شامل شده باشند."
   ]
  },
  {
   "cell_type": "code",
   "execution_count": null,
   "metadata": {
    "id": "8r0uztFVPuwZ",
    "pycharm": {
     "name": "#%%\n"
    }
   },
   "outputs": [],
   "source": [
    "explained_variance = 0.7 # you can change this variable to get more component of datasets.\n",
    "#calculate the total variance from eigenvalues and find the first k component that contains the eplained_variance of the total variance.\n",
    "#TODO\n",
    "\n",
    "#calculate the compression_ratio"
   ]
  },
  {
   "cell_type": "markdown",
   "metadata": {
    "id": "IjnSYDxaQ22R",
    "pycharm": {
     "name": "#%% md\n"
    }
   },
   "source": [
    "حال در این بخش دیتاهای موجود را روی این مولفه ها تصویر کنید عملیات کاهش بعدد را انجام دهید و سپس ابعاد را به اندازه تصاویر اصلی برگردانید و  تصویر یکی از سمپل ها را برای هر دو حالت قبل از کاهش بعد روی مولفه ها و بعد از آن رسم کنید."
   ]
  },
  {
   "cell_type": "code",
   "execution_count": null,
   "metadata": {
    "id": "XD4pAG4AQ2Wy",
    "pycharm": {
     "name": "#%%\n"
    }
   },
   "outputs": [],
   "source": [
    "#Project Images into Reduced Dimensionality Eigenbasis F=X*V (X is our dataset,F our reduced dimensionality dataset,V is k choosen eigenvectors)\n",
    "#And Reproject Images to Standard Basis for plotting the reduced component image X_k=F*V_transpose (V_transpose is equal to V inverse)\n",
    "#select on sample and reshape it to a 28 by 28 matrix and plot them as image\n",
    "\n",
    "#TODO\n",
    "#plot the dimentionally reduced data\n",
    "#plot the original data"
   ]
  },
  {
   "cell_type": "markdown",
   "metadata": {
    "id": "Kwfvh4OlV3yt",
    "pycharm": {
     "name": "#%% md\n"
    }
   },
   "source": [
    "## Perform PCA and Gauge Max Accuracy"
   ]
  },
  {
   "cell_type": "markdown",
   "metadata": {
    "id": "q6nK9afkYbtA",
    "pycharm": {
     "name": "#%% md\n"
    }
   },
   "source": [
    "حال میخواهیم برای دیتای تصویر شده یک مدل یادگیری بسازیم و دقت مدل را برحسب تعدا مولفه های اصلی بدست بیاوریم ."
   ]
  },
  {
   "cell_type": "code",
   "execution_count": null,
   "metadata": {
    "id": "s81nsIJDU6AU",
    "pycharm": {
     "name": "#%%\n"
    }
   },
   "outputs": [],
   "source": [
    "#complete below function using python PCA function\n",
    "def do_pca(n_components, data):\n",
    "  #input number of component and not normalized data set.\n",
    "  #output is the projected dataset\n",
    "  # TODO\n",
    "  pass"
   ]
  },
  {
   "cell_type": "code",
   "execution_count": null,
   "metadata": {
    "id": "0xmvtYezCPBM",
    "pycharm": {
     "name": "#%%\n"
    }
   },
   "outputs": [],
   "source": [
    "#define a function that gets the X data and Y labels and returns the accuracy of ml model.\n",
    "\n",
    "def ML_model(X, y, print_output=True):\n",
    "    #define ML model inputs dataset and lables\n",
    "    #output accuracy of model on dataset\n",
    "    # TODO\n",
    "    return acc"
   ]
  },
  {
   "cell_type": "code",
   "execution_count": null,
   "metadata": {
    "id": "IBZInLOHdMNJ",
    "pycharm": {
     "name": "#%%\n"
    }
   },
   "outputs": [],
   "source": [
    "#your code to plot the accuracy of projected train data on one ml model(choose on your own reggression , random forest , ...)\n",
    "#consider number of component from 2 to 101 and calculate accuracy based on number of components\n",
    "#TODO\n",
    "acc_list, pc_list = [], []\n",
    "for pc in range(2,101):\n",
    "    #TODO"
   ]
  },
  {
   "cell_type": "code",
   "execution_count": null,
   "metadata": {
    "id": "Kv9MulpfWvjO",
    "pycharm": {
     "name": "#%%\n"
    }
   },
   "outputs": [],
   "source": [
    "#plot the accuracy based on components.\n",
    "#TODO"
   ]
  },
  {
   "cell_type": "code",
   "execution_count": null,
   "metadata": {
    "id": "bTxBCwuOWMwK",
    "pycharm": {
     "name": "#%%\n"
    }
   },
   "outputs": [],
   "source": [
    "#print the number of components that maximize the accuracy and the max accuracy\n",
    "#TODO\n"
   ]
  }
 ],
 "metadata": {
  "colab": {
   "provenance": []
  },
  "kernelspec": {
   "display_name": "Python 3",
   "name": "python3"
  },
  "language_info": {
   "name": "python"
  }
 },
 "nbformat": 4,
 "nbformat_minor": 0
}